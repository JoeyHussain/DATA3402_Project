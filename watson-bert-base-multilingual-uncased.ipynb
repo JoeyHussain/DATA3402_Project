{
 "cells": [
  {
   "cell_type": "code",
   "execution_count": 1,
   "id": "0874c257",
   "metadata": {
    "_cell_guid": "b1076dfc-b9ad-4769-8c92-a6c4dae69d19",
    "_uuid": "8f2839f25d086af736a60e9eeb907d3b93b6e0e5",
    "execution": {
     "iopub.execute_input": "2022-05-05T04:43:00.311660Z",
     "iopub.status.busy": "2022-05-05T04:43:00.307535Z",
     "iopub.status.idle": "2022-05-05T04:43:00.317152Z",
     "shell.execute_reply": "2022-05-05T04:43:00.318143Z",
     "shell.execute_reply.started": "2022-05-02T08:14:24.522458Z"
    },
    "papermill": {
     "duration": 0.043342,
     "end_time": "2022-05-05T04:43:00.318634",
     "exception": false,
     "start_time": "2022-05-05T04:43:00.275292",
     "status": "completed"
    },
    "tags": []
   },
   "outputs": [
    {
     "name": "stdout",
     "output_type": "stream",
     "text": [
      "/kaggle/input/contradictory-my-dear-watson/sample_submission.csv\n",
      "/kaggle/input/contradictory-my-dear-watson/train.csv\n",
      "/kaggle/input/contradictory-my-dear-watson/test.csv\n"
     ]
    }
   ],
   "source": [
    "# This Python 3 environment comes with many helpful analytics libraries installed\n",
    "# It is defined by the kaggle/python Docker image: https://github.com/kaggle/docker-python\n",
    "# For example, here's several helpful packages to load\n",
    "\n",
    "import numpy as np # linear algebra\n",
    "import pandas as pd # data processing, CSV file I/O (e.g. pd.read_csv)\n",
    "\n",
    "# Input data files are available in the read-only \"../input/\" directory\n",
    "# For example, running this (by clicking run or pressing Shift+Enter) will list all files under the input directory\n",
    "\n",
    "import os\n",
    "for dirname, _, filenames in os.walk('/kaggle/input'):\n",
    "    for filename in filenames:\n",
    "        print(os.path.join(dirname, filename))\n",
    "\n",
    "# You can write up to 20GB to the current directory (/kaggle/working/) that gets preserved as output when you create a version using \"Save & Run All\" \n",
    "# You can also write temporary files to /kaggle/temp/, but they won't be saved outside of the current session"
   ]
  },
  {
   "cell_type": "code",
   "execution_count": 2,
   "id": "bc8c3bcc",
   "metadata": {
    "execution": {
     "iopub.execute_input": "2022-05-05T04:43:00.373158Z",
     "iopub.status.busy": "2022-05-05T04:43:00.372491Z",
     "iopub.status.idle": "2022-05-05T04:43:00.375900Z",
     "shell.execute_reply": "2022-05-05T04:43:00.376374Z",
     "shell.execute_reply.started": "2022-05-02T08:14:24.559382Z"
    },
    "papermill": {
     "duration": 0.029779,
     "end_time": "2022-05-05T04:43:00.376532",
     "exception": false,
     "start_time": "2022-05-05T04:43:00.346753",
     "status": "completed"
    },
    "tags": []
   },
   "outputs": [],
   "source": [
    "import matplotlib.pyplot as plt"
   ]
  },
  {
   "cell_type": "markdown",
   "id": "2d85571a",
   "metadata": {
    "papermill": {
     "duration": 0.022601,
     "end_time": "2022-05-05T04:43:00.422083",
     "exception": false,
     "start_time": "2022-05-05T04:43:00.399482",
     "status": "completed"
    },
    "tags": []
   },
   "source": [
    "## Loading and exploring the data "
   ]
  },
  {
   "cell_type": "code",
   "execution_count": 3,
   "id": "08dcade4",
   "metadata": {
    "execution": {
     "iopub.execute_input": "2022-05-05T04:43:00.471066Z",
     "iopub.status.busy": "2022-05-05T04:43:00.470414Z",
     "iopub.status.idle": "2022-05-05T04:43:00.655482Z",
     "shell.execute_reply": "2022-05-05T04:43:00.656038Z",
     "shell.execute_reply.started": "2022-05-02T08:14:24.567849Z"
    },
    "papermill": {
     "duration": 0.21118,
     "end_time": "2022-05-05T04:43:00.656218",
     "exception": false,
     "start_time": "2022-05-05T04:43:00.445038",
     "status": "completed"
    },
    "tags": []
   },
   "outputs": [],
   "source": [
    "df_train = pd.read_csv('/kaggle/input/contradictory-my-dear-watson/train.csv')\n",
    "df_test = pd.read_csv('/kaggle/input/contradictory-my-dear-watson/test.csv')"
   ]
  },
  {
   "cell_type": "code",
   "execution_count": 4,
   "id": "861c5e70",
   "metadata": {
    "execution": {
     "iopub.execute_input": "2022-05-05T04:43:00.706482Z",
     "iopub.status.busy": "2022-05-05T04:43:00.705851Z",
     "iopub.status.idle": "2022-05-05T04:43:00.727412Z",
     "shell.execute_reply": "2022-05-05T04:43:00.726825Z",
     "shell.execute_reply.started": "2022-05-02T08:14:24.814259Z"
    },
    "papermill": {
     "duration": 0.048115,
     "end_time": "2022-05-05T04:43:00.727557",
     "exception": false,
     "start_time": "2022-05-05T04:43:00.679442",
     "status": "completed"
    },
    "tags": []
   },
   "outputs": [
    {
     "data": {
      "text/html": [
       "<div>\n",
       "<style scoped>\n",
       "    .dataframe tbody tr th:only-of-type {\n",
       "        vertical-align: middle;\n",
       "    }\n",
       "\n",
       "    .dataframe tbody tr th {\n",
       "        vertical-align: top;\n",
       "    }\n",
       "\n",
       "    .dataframe thead th {\n",
       "        text-align: right;\n",
       "    }\n",
       "</style>\n",
       "<table border=\"1\" class=\"dataframe\">\n",
       "  <thead>\n",
       "    <tr style=\"text-align: right;\">\n",
       "      <th></th>\n",
       "      <th>id</th>\n",
       "      <th>premise</th>\n",
       "      <th>hypothesis</th>\n",
       "      <th>lang_abv</th>\n",
       "      <th>language</th>\n",
       "      <th>label</th>\n",
       "    </tr>\n",
       "  </thead>\n",
       "  <tbody>\n",
       "    <tr>\n",
       "      <th>0</th>\n",
       "      <td>5130fd2cb5</td>\n",
       "      <td>and these comments were considered in formulat...</td>\n",
       "      <td>The rules developed in the interim were put to...</td>\n",
       "      <td>en</td>\n",
       "      <td>English</td>\n",
       "      <td>0</td>\n",
       "    </tr>\n",
       "    <tr>\n",
       "      <th>1</th>\n",
       "      <td>5b72532a0b</td>\n",
       "      <td>These are issues that we wrestle with in pract...</td>\n",
       "      <td>Practice groups are not permitted to work on t...</td>\n",
       "      <td>en</td>\n",
       "      <td>English</td>\n",
       "      <td>2</td>\n",
       "    </tr>\n",
       "    <tr>\n",
       "      <th>2</th>\n",
       "      <td>3931fbe82a</td>\n",
       "      <td>Des petites choses comme celles-là font une di...</td>\n",
       "      <td>J'essayais d'accomplir quelque chose.</td>\n",
       "      <td>fr</td>\n",
       "      <td>French</td>\n",
       "      <td>0</td>\n",
       "    </tr>\n",
       "    <tr>\n",
       "      <th>3</th>\n",
       "      <td>5622f0c60b</td>\n",
       "      <td>you know they can't really defend themselves l...</td>\n",
       "      <td>They can't defend themselves because of their ...</td>\n",
       "      <td>en</td>\n",
       "      <td>English</td>\n",
       "      <td>0</td>\n",
       "    </tr>\n",
       "    <tr>\n",
       "      <th>4</th>\n",
       "      <td>86aaa48b45</td>\n",
       "      <td>ในการเล่นบทบาทสมมุติก็เช่นกัน โอกาสที่จะได้แสด...</td>\n",
       "      <td>เด็กสามารถเห็นได้ว่าชาติพันธุ์แตกต่างกันอย่างไร</td>\n",
       "      <td>th</td>\n",
       "      <td>Thai</td>\n",
       "      <td>1</td>\n",
       "    </tr>\n",
       "  </tbody>\n",
       "</table>\n",
       "</div>"
      ],
      "text/plain": [
       "           id                                            premise  \\\n",
       "0  5130fd2cb5  and these comments were considered in formulat...   \n",
       "1  5b72532a0b  These are issues that we wrestle with in pract...   \n",
       "2  3931fbe82a  Des petites choses comme celles-là font une di...   \n",
       "3  5622f0c60b  you know they can't really defend themselves l...   \n",
       "4  86aaa48b45  ในการเล่นบทบาทสมมุติก็เช่นกัน โอกาสที่จะได้แสด...   \n",
       "\n",
       "                                          hypothesis lang_abv language  label  \n",
       "0  The rules developed in the interim were put to...       en  English      0  \n",
       "1  Practice groups are not permitted to work on t...       en  English      2  \n",
       "2              J'essayais d'accomplir quelque chose.       fr   French      0  \n",
       "3  They can't defend themselves because of their ...       en  English      0  \n",
       "4    เด็กสามารถเห็นได้ว่าชาติพันธุ์แตกต่างกันอย่างไร       th     Thai      1  "
      ]
     },
     "execution_count": 4,
     "metadata": {},
     "output_type": "execute_result"
    }
   ],
   "source": [
    "df_train.head()"
   ]
  },
  {
   "cell_type": "code",
   "execution_count": 5,
   "id": "f2e4a3d7",
   "metadata": {
    "execution": {
     "iopub.execute_input": "2022-05-05T04:43:00.779124Z",
     "iopub.status.busy": "2022-05-05T04:43:00.777828Z",
     "iopub.status.idle": "2022-05-05T04:43:00.789417Z",
     "shell.execute_reply": "2022-05-05T04:43:00.789972Z",
     "shell.execute_reply.started": "2022-05-02T08:14:24.843633Z"
    },
    "papermill": {
     "duration": 0.038829,
     "end_time": "2022-05-05T04:43:00.790152",
     "exception": false,
     "start_time": "2022-05-05T04:43:00.751323",
     "status": "completed"
    },
    "tags": []
   },
   "outputs": [
    {
     "data": {
      "text/html": [
       "<div>\n",
       "<style scoped>\n",
       "    .dataframe tbody tr th:only-of-type {\n",
       "        vertical-align: middle;\n",
       "    }\n",
       "\n",
       "    .dataframe tbody tr th {\n",
       "        vertical-align: top;\n",
       "    }\n",
       "\n",
       "    .dataframe thead th {\n",
       "        text-align: right;\n",
       "    }\n",
       "</style>\n",
       "<table border=\"1\" class=\"dataframe\">\n",
       "  <thead>\n",
       "    <tr style=\"text-align: right;\">\n",
       "      <th></th>\n",
       "      <th>id</th>\n",
       "      <th>premise</th>\n",
       "      <th>hypothesis</th>\n",
       "      <th>lang_abv</th>\n",
       "      <th>language</th>\n",
       "    </tr>\n",
       "  </thead>\n",
       "  <tbody>\n",
       "    <tr>\n",
       "      <th>5190</th>\n",
       "      <td>5f90dd59b0</td>\n",
       "      <td>نیند نے وعدہ کیا کہ موٹل نے سوال میں تحقیق کی.</td>\n",
       "      <td>نیمیتھ کو موٹل کی تفتیش کے لئے معاوضہ دیا جارہ...</td>\n",
       "      <td>ur</td>\n",
       "      <td>Urdu</td>\n",
       "    </tr>\n",
       "    <tr>\n",
       "      <th>5191</th>\n",
       "      <td>f357a04e86</td>\n",
       "      <td>The  rock  has a soft texture and can be bough...</td>\n",
       "      <td>The rock is harder than most types of rock.</td>\n",
       "      <td>en</td>\n",
       "      <td>English</td>\n",
       "    </tr>\n",
       "    <tr>\n",
       "      <th>5192</th>\n",
       "      <td>1f0ea92118</td>\n",
       "      <td>她目前的存在，并考虑到他与沃佛斯顿争执的本质，那是尴尬的。</td>\n",
       "      <td>她在与Wolverstone的打斗结束后才在场的事实被看作是很尴尬的。</td>\n",
       "      <td>zh</td>\n",
       "      <td>Chinese</td>\n",
       "    </tr>\n",
       "    <tr>\n",
       "      <th>5193</th>\n",
       "      <td>0407b48afb</td>\n",
       "      <td>isn't it i can remember i've only been here ei...</td>\n",
       "      <td>I could see downtown Dallas from where I lived...</td>\n",
       "      <td>en</td>\n",
       "      <td>English</td>\n",
       "    </tr>\n",
       "    <tr>\n",
       "      <th>5194</th>\n",
       "      <td>16c2f2ab89</td>\n",
       "      <td>In Hong Kong you can have a plate, or even a w...</td>\n",
       "      <td>It's impossible to have a plate hand-painted t...</td>\n",
       "      <td>en</td>\n",
       "      <td>English</td>\n",
       "    </tr>\n",
       "  </tbody>\n",
       "</table>\n",
       "</div>"
      ],
      "text/plain": [
       "              id                                            premise  \\\n",
       "5190  5f90dd59b0     نیند نے وعدہ کیا کہ موٹل نے سوال میں تحقیق کی.   \n",
       "5191  f357a04e86  The  rock  has a soft texture and can be bough...   \n",
       "5192  1f0ea92118                      她目前的存在，并考虑到他与沃佛斯顿争执的本质，那是尴尬的。   \n",
       "5193  0407b48afb  isn't it i can remember i've only been here ei...   \n",
       "5194  16c2f2ab89  In Hong Kong you can have a plate, or even a w...   \n",
       "\n",
       "                                             hypothesis lang_abv language  \n",
       "5190  نیمیتھ کو موٹل کی تفتیش کے لئے معاوضہ دیا جارہ...       ur     Urdu  \n",
       "5191        The rock is harder than most types of rock.       en  English  \n",
       "5192                她在与Wolverstone的打斗结束后才在场的事实被看作是很尴尬的。       zh  Chinese  \n",
       "5193  I could see downtown Dallas from where I lived...       en  English  \n",
       "5194  It's impossible to have a plate hand-painted t...       en  English  "
      ]
     },
     "execution_count": 5,
     "metadata": {},
     "output_type": "execute_result"
    }
   ],
   "source": [
    "df_test.tail()"
   ]
  },
  {
   "cell_type": "code",
   "execution_count": 6,
   "id": "623f4f54",
   "metadata": {
    "execution": {
     "iopub.execute_input": "2022-05-05T04:43:00.845356Z",
     "iopub.status.busy": "2022-05-05T04:43:00.844518Z",
     "iopub.status.idle": "2022-05-05T04:43:00.847782Z",
     "shell.execute_reply": "2022-05-05T04:43:00.848276Z",
     "shell.execute_reply.started": "2022-05-02T08:14:24.862152Z"
    },
    "papermill": {
     "duration": 0.0339,
     "end_time": "2022-05-05T04:43:00.848438",
     "exception": false,
     "start_time": "2022-05-05T04:43:00.814538",
     "status": "completed"
    },
    "tags": []
   },
   "outputs": [
    {
     "data": {
      "text/plain": [
       "((12120, 6), (5195, 5))"
      ]
     },
     "execution_count": 6,
     "metadata": {},
     "output_type": "execute_result"
    }
   ],
   "source": [
    "df_train.shape, df_test.shape"
   ]
  },
  {
   "cell_type": "code",
   "execution_count": 7,
   "id": "4cf43227",
   "metadata": {
    "execution": {
     "iopub.execute_input": "2022-05-05T04:43:00.901132Z",
     "iopub.status.busy": "2022-05-05T04:43:00.900187Z",
     "iopub.status.idle": "2022-05-05T04:43:00.915247Z",
     "shell.execute_reply": "2022-05-05T04:43:00.915767Z",
     "shell.execute_reply.started": "2022-05-02T08:14:24.876852Z"
    },
    "papermill": {
     "duration": 0.043136,
     "end_time": "2022-05-05T04:43:00.915954",
     "exception": false,
     "start_time": "2022-05-05T04:43:00.872818",
     "status": "completed"
    },
    "tags": []
   },
   "outputs": [
    {
     "data": {
      "text/plain": [
       "id            0\n",
       "premise       0\n",
       "hypothesis    0\n",
       "lang_abv      0\n",
       "language      0\n",
       "label         0\n",
       "dtype: int64"
      ]
     },
     "execution_count": 7,
     "metadata": {},
     "output_type": "execute_result"
    }
   ],
   "source": [
    "df_train.isnull().sum()"
   ]
  },
  {
   "cell_type": "code",
   "execution_count": 8,
   "id": "86ec33fd",
   "metadata": {
    "execution": {
     "iopub.execute_input": "2022-05-05T04:43:00.969510Z",
     "iopub.status.busy": "2022-05-05T04:43:00.968360Z",
     "iopub.status.idle": "2022-05-05T04:43:00.979025Z",
     "shell.execute_reply": "2022-05-05T04:43:00.979604Z",
     "shell.execute_reply.started": "2022-05-02T08:14:24.905957Z"
    },
    "papermill": {
     "duration": 0.038941,
     "end_time": "2022-05-05T04:43:00.979766",
     "exception": false,
     "start_time": "2022-05-05T04:43:00.940825",
     "status": "completed"
    },
    "tags": []
   },
   "outputs": [
    {
     "data": {
      "text/plain": [
       "id            0\n",
       "premise       0\n",
       "hypothesis    0\n",
       "lang_abv      0\n",
       "language      0\n",
       "dtype: int64"
      ]
     },
     "execution_count": 8,
     "metadata": {},
     "output_type": "execute_result"
    }
   ],
   "source": [
    "df_test.isnull().sum()"
   ]
  },
  {
   "cell_type": "code",
   "execution_count": 9,
   "id": "deb48b2a",
   "metadata": {
    "execution": {
     "iopub.execute_input": "2022-05-05T04:43:01.033723Z",
     "iopub.status.busy": "2022-05-05T04:43:01.032766Z",
     "iopub.status.idle": "2022-05-05T04:43:01.067366Z",
     "shell.execute_reply": "2022-05-05T04:43:01.066559Z",
     "shell.execute_reply.started": "2022-05-02T08:14:24.918752Z"
    },
    "papermill": {
     "duration": 0.062604,
     "end_time": "2022-05-05T04:43:01.067525",
     "exception": false,
     "start_time": "2022-05-05T04:43:01.004921",
     "status": "completed"
    },
    "tags": []
   },
   "outputs": [
    {
     "data": {
      "text/plain": [
       "0"
      ]
     },
     "execution_count": 9,
     "metadata": {},
     "output_type": "execute_result"
    }
   ],
   "source": [
    "df_train.duplicated().sum()"
   ]
  },
  {
   "cell_type": "code",
   "execution_count": 10,
   "id": "cb5e6015",
   "metadata": {
    "execution": {
     "iopub.execute_input": "2022-05-05T04:43:01.124044Z",
     "iopub.status.busy": "2022-05-05T04:43:01.123366Z",
     "iopub.status.idle": "2022-05-05T04:43:01.453092Z",
     "shell.execute_reply": "2022-05-05T04:43:01.452412Z",
     "shell.execute_reply.started": "2022-05-02T08:14:24.979635Z"
    },
    "papermill": {
     "duration": 0.359969,
     "end_time": "2022-05-05T04:43:01.453253",
     "exception": false,
     "start_time": "2022-05-05T04:43:01.093284",
     "status": "completed"
    },
    "tags": []
   },
   "outputs": [
    {
     "data": {
      "text/plain": [
       "<AxesSubplot:>"
      ]
     },
     "execution_count": 10,
     "metadata": {},
     "output_type": "execute_result"
    },
    {
     "data": {
      "image/png": "[encoded data removed]",
      "text/plain": [
       "<Figure size 432x288 with 1 Axes>"
      ]
     },
     "metadata": {
      "needs_background": "light"
     },
     "output_type": "display_data"
    }
   ],
   "source": [
    "# check whether target value is skewed\n",
    "df_train.label.hist()"
   ]
  },
  {
   "cell_type": "code",
   "execution_count": 11,
   "id": "174fe3b3",
   "metadata": {
    "execution": {
     "iopub.execute_input": "2022-05-05T04:43:01.521561Z",
     "iopub.status.busy": "2022-05-05T04:43:01.520643Z",
     "iopub.status.idle": "2022-05-05T04:43:01.528752Z",
     "shell.execute_reply": "2022-05-05T04:43:01.529792Z",
     "shell.execute_reply.started": "2022-05-02T08:14:25.350629Z"
    },
    "papermill": {
     "duration": 0.04621,
     "end_time": "2022-05-05T04:43:01.530197",
     "exception": false,
     "start_time": "2022-05-05T04:43:01.483987",
     "status": "completed"
    },
    "tags": []
   },
   "outputs": [
    {
     "name": "stdout",
     "output_type": "stream",
     "text": [
      "train lang_abv:  15 , languages:  15\n",
      "test lang_abv:  15 , languages:  15\n",
      "train lang & test lang:  15\n"
     ]
    }
   ],
   "source": [
    "# how many languages is in dataset\n",
    "print('train lang_abv: ', len(df_train.lang_abv.unique()), ', languages: ', len(df_train.language.unique()))\n",
    "print('test lang_abv: ', len(df_test.lang_abv.unique()), ', languages: ', len(df_test.language.unique()))\n",
    "print('train lang & test lang: ', len(set(df_train.lang_abv.unique()) and set(df_test.lang_abv.unique())))"
   ]
  },
  {
   "cell_type": "code",
   "execution_count": 12,
   "id": "b9254c09",
   "metadata": {
    "execution": {
     "iopub.execute_input": "2022-05-05T04:43:01.589638Z",
     "iopub.status.busy": "2022-05-05T04:43:01.588946Z",
     "iopub.status.idle": "2022-05-05T04:43:01.645665Z",
     "shell.execute_reply": "2022-05-05T04:43:01.644780Z",
     "shell.execute_reply.started": "2022-05-02T08:14:25.369923Z"
    },
    "papermill": {
     "duration": 0.087544,
     "end_time": "2022-05-05T04:43:01.645868",
     "exception": false,
     "start_time": "2022-05-05T04:43:01.558324",
     "status": "completed"
    },
    "tags": []
   },
   "outputs": [
    {
     "name": "stdout",
     "output_type": "stream",
     "text": [
      "English and these comments were considered in formulating the interim rules.\n",
      "French Des petites choses comme celles-là font une différence énorme dans ce que j'essaye de faire.\n",
      "Thai ในการเล่นบทบาทสมมุติก็เช่นกัน โอกาสที่จะได้แสดงออกและได้เล่นหลายบทบาทไปพร้อมกัน ๆ อาจช่วยให้เด็กจับความคล้ายคลึงและความแตกต่างระหว่างผู้คนในด้านความปรารถนา ความเชื่อ และความรู้สึกได้\n",
      "Turkish Bir çiftlikte birisinin, ağıla kapatılmış bu öküzleri kesmeliyiz dediğini duyabilirsiniz bu muhtemelen şu anlama gelir, yüklenecek olanları ayırın.\n",
      "Urdu ریاست ہائے متحدہ امریکہ واپس آنے پر، ہج ایف بی آئی کے ایجنٹوں کے ذریعے ہوائی اڈے پر ملاقات کی، تحقیقات کی، اور اگلے دن وفاقی گرین جوری سے پہلے اسامہ بن لادن کی تحقیقات سے ملاقات کی.\n",
      "Russian Через каждые сто градусов пятна краски меняют свой цвет, она может быть красной и изменить цвет на синий.\n",
      "Bulgarian Може да не сме имали всичко, което сме искали или сме видели, че други хора имат, но тя осигуряваше необходимите неща, от които се нуждаехме.\n",
      "German Es fallen zwanzig Prozent Zinsen an\n",
      "Arabic إذا أمكن ، تعرّف على المؤامرة مسبقًا.\n",
      "Chinese 我希望你的领主能够最终开始认识到，向这样的人授予国王委员会的愚蠢行为反对我的所有建议。\n",
      "Hindi म्जोडी का दावा है कि वह शादी करने के लिए मोरक्को के घर चला गया लेकिन वहाँ एक कार दुर्घटना में घायल होनेके कारण कर नहीं पाया ।\n",
      "Swahili Watoto wangegonga milango ya majirani zao na\n",
      "Vietnamese Lạnh hơn và xa hơn bao giờ hết đã phát triển tiếng nói của lãnh chúa.\n",
      "Spanish 27 La dificultad aumenta a medida que la necesidad de modificaciones de la caldera que se han de tomar para adaptar el SCR a la instalación también aumenta.\n",
      "Greek Κατά συνέπεια, οι κυβερνητικοί υπεύθυνοι λήψης αποφάσεων και προϊστάμενοι υιοθετούν νέους τρόπους σκέψης, εξετάζοντας διαφορετικούς τρόπους επίτευξης των στόχων και χρησιμοποιώντας νέες πληροφορίες για την καθοδήγηση των αποφάσεων.\n"
     ]
    }
   ],
   "source": [
    "# great, there is the same set of languages in both train and test datasets\n",
    "# lets see what exact languages are presented and how diff sentences in diff languages look like\n",
    "for lang in df_train.lang_abv.unique():\n",
    "    first_row = df_train[df_train.lang_abv == lang].iloc[0]\n",
    "    print(first_row.language, first_row.premise)"
   ]
  },
  {
   "cell_type": "markdown",
   "id": "8fa717f4",
   "metadata": {
    "papermill": {
     "duration": 0.028816,
     "end_time": "2022-05-05T04:43:01.704653",
     "exception": false,
     "start_time": "2022-05-05T04:43:01.675837",
     "status": "completed"
    },
    "tags": []
   },
   "source": [
    "## TPU Setup"
   ]
  },
  {
   "cell_type": "code",
   "execution_count": 13,
   "id": "ce53727d",
   "metadata": {
    "execution": {
     "iopub.execute_input": "2022-05-05T04:43:01.768989Z",
     "iopub.status.busy": "2022-05-05T04:43:01.768235Z",
     "iopub.status.idle": "2022-05-05T04:43:07.133591Z",
     "shell.execute_reply": "2022-05-05T04:43:07.132907Z",
     "shell.execute_reply.started": "2022-05-02T08:14:25.437423Z"
    },
    "papermill": {
     "duration": 5.400029,
     "end_time": "2022-05-05T04:43:07.133731",
     "exception": false,
     "start_time": "2022-05-05T04:43:01.733702",
     "status": "completed"
    },
    "tags": []
   },
   "outputs": [
    {
     "name": "stderr",
     "output_type": "stream",
     "text": [
      "2022-05-05 04:43:02.383830: W tensorflow/stream_executor/platform/default/dso_loader.cc:60] Could not load dynamic library 'libcudart.so.11.0'; dlerror: libcudart.so.11.0: cannot open shared object file: No such file or directory; LD_LIBRARY_PATH: /opt/conda/lib\n",
      "2022-05-05 04:43:02.383968: I tensorflow/stream_executor/cuda/cudart_stub.cc:29] Ignore above cudart dlerror if you do not have a GPU set up on your machine.\n"
     ]
    }
   ],
   "source": [
    "import tensorflow as tf"
   ]
  },
  {
   "cell_type": "code",
   "execution_count": 14,
   "id": "a5b01e28",
   "metadata": {
    "execution": {
     "iopub.execute_input": "2022-05-05T04:43:07.201930Z",
     "iopub.status.busy": "2022-05-05T04:43:07.201231Z",
     "iopub.status.idle": "2022-05-05T04:43:12.912989Z",
     "shell.execute_reply": "2022-05-05T04:43:12.912167Z",
     "shell.execute_reply.started": "2022-05-02T08:14:32.497682Z"
    },
    "papermill": {
     "duration": 5.751713,
     "end_time": "2022-05-05T04:43:12.913140",
     "exception": false,
     "start_time": "2022-05-05T04:43:07.161427",
     "status": "completed"
    },
    "tags": []
   },
   "outputs": [
    {
     "name": "stderr",
     "output_type": "stream",
     "text": [
      "2022-05-05 04:43:07.196761: I tensorflow/compiler/jit/xla_cpu_device.cc:41] Not creating XLA devices, tf_xla_enable_xla_devices not set\n",
      "2022-05-05 04:43:07.199010: W tensorflow/stream_executor/platform/default/dso_loader.cc:60] Could not load dynamic library 'libcuda.so.1'; dlerror: libcuda.so.1: cannot open shared object file: No such file or directory; LD_LIBRARY_PATH: /opt/conda/lib\n",
      "2022-05-05 04:43:07.199063: W tensorflow/stream_executor/cuda/cuda_driver.cc:326] failed call to cuInit: UNKNOWN ERROR (303)\n",
      "2022-05-05 04:43:07.199095: I tensorflow/stream_executor/cuda/cuda_diagnostics.cc:156] kernel driver does not appear to be running on this host (6a08a28f0ad2): /proc/driver/nvidia/version does not exist\n",
      "2022-05-05 04:43:07.202757: I tensorflow/core/platform/cpu_feature_guard.cc:142] This TensorFlow binary is optimized with oneAPI Deep Neural Network Library (oneDNN) to use the following CPU instructions in performance-critical operations:  AVX2 FMA\n",
      "To enable them in other operations, rebuild TensorFlow with the appropriate compiler flags.\n",
      "2022-05-05 04:43:07.204115: I tensorflow/compiler/jit/xla_gpu_device.cc:99] Not creating XLA devices, tf_xla_enable_xla_devices not set\n",
      "2022-05-05 04:43:07.228738: I tensorflow/core/distributed_runtime/rpc/grpc_channel.cc:301] Initialize GrpcChannelCache for job worker -> {0 -> 10.0.0.2:8470}\n",
      "2022-05-05 04:43:07.228790: I tensorflow/core/distributed_runtime/rpc/grpc_channel.cc:301] Initialize GrpcChannelCache for job localhost -> {0 -> localhost:30019}\n",
      "2022-05-05 04:43:07.249880: I tensorflow/core/distributed_runtime/rpc/grpc_channel.cc:301] Initialize GrpcChannelCache for job worker -> {0 -> 10.0.0.2:8470}\n",
      "2022-05-05 04:43:07.249931: I tensorflow/core/distributed_runtime/rpc/grpc_channel.cc:301] Initialize GrpcChannelCache for job localhost -> {0 -> localhost:30019}\n",
      "2022-05-05 04:43:07.251786: I tensorflow/core/distributed_runtime/rpc/grpc_server_lib.cc:411] Started server with target: grpc://localhost:30019\n"
     ]
    }
   ],
   "source": [
    "try:\n",
    "    tpu = tf.distribute.cluster_resolver.TPUClusterResolver() \n",
    "    tf.config.experimental_connect_to_cluster(tpu)\n",
    "    tf.tpu.experimental.initialize_tpu_system(tpu)\n",
    "    \n",
    "    strategy = tf.distribute.experimental.TPUStrategy\n",
    "except ValueError:\n",
    "    strategy = tf.distribute.get_strategy() \n",
    "    print('Number of replicas:', strategy.num_replicas_in_sync) "
   ]
  },
  {
   "cell_type": "code",
   "execution_count": 15,
   "id": "f8a4bd9c",
   "metadata": {
    "execution": {
     "iopub.execute_input": "2022-05-05T04:43:12.978290Z",
     "iopub.status.busy": "2022-05-05T04:43:12.977248Z",
     "iopub.status.idle": "2022-05-05T04:43:21.664210Z",
     "shell.execute_reply": "2022-05-05T04:43:21.664728Z",
     "shell.execute_reply.started": "2022-05-02T08:14:38.093425Z"
    },
    "papermill": {
     "duration": 8.723523,
     "end_time": "2022-05-05T04:43:21.664922",
     "exception": false,
     "start_time": "2022-05-05T04:43:12.941399",
     "status": "completed"
    },
    "tags": []
   },
   "outputs": [
    {
     "name": "stdout",
     "output_type": "stream",
     "text": [
      "Running on TPU  ['10.0.0.2:8470']\n",
      "Number of accelerators:  8\n"
     ]
    }
   ],
   "source": [
    "try:\n",
    "    tpu = tf.distribute.cluster_resolver.TPUClusterResolver() # TPU detection\n",
    "except ValueError:\n",
    "    tpu = None\n",
    "    gpus = tf.config.experimental.list_logical_devices(\"GPU\")\n",
    "    \n",
    "if tpu:\n",
    "    tf.tpu.experimental.initialize_tpu_system(tpu)\n",
    "    strategy = tf.distribute.experimental.TPUStrategy(tpu,) \n",
    "    print('Running on TPU ', tpu.cluster_spec().as_dict()['worker'])\n",
    "elif len(gpus) > 1:\n",
    "    strategy = tf.distribute.MirroredStrategy([gpu.name for gpu in gpus])\n",
    "    print('Running on multiple GPUs ', [gpu.name for gpu in gpus])\n",
    "elif len(gpus) == 1:\n",
    "    strategy = tf.distribute.get_strategy() \n",
    "    print('Running on single GPU ', gpus[0].name)\n",
    "else:\n",
    "    strategy = tf.distribute.get_strategy() \n",
    "    print('Running on CPU')\n",
    "print(\"Number of accelerators: \", strategy.num_replicas_in_sync)"
   ]
  },
  {
   "cell_type": "markdown",
   "id": "8e1c0c3b",
   "metadata": {
    "papermill": {
     "duration": 0.028685,
     "end_time": "2022-05-05T04:43:21.723103",
     "exception": false,
     "start_time": "2022-05-05T04:43:21.694418",
     "status": "completed"
    },
    "tags": []
   },
   "source": [
    "## BERT "
   ]
  },
  {
   "cell_type": "code",
   "execution_count": 16,
   "id": "7a65c5a5",
   "metadata": {
    "execution": {
     "iopub.execute_input": "2022-05-05T04:43:21.784390Z",
     "iopub.status.busy": "2022-05-05T04:43:21.783778Z",
     "iopub.status.idle": "2022-05-05T04:43:23.739884Z",
     "shell.execute_reply": "2022-05-05T04:43:23.738884Z",
     "shell.execute_reply.started": "2022-05-02T08:14:46.146489Z"
    },
    "papermill": {
     "duration": 1.98802,
     "end_time": "2022-05-05T04:43:23.740038",
     "exception": false,
     "start_time": "2022-05-05T04:43:21.752018",
     "status": "completed"
    },
    "tags": []
   },
   "outputs": [],
   "source": [
    "from transformers import TFAutoModel, AutoTokenizer"
   ]
  },
  {
   "cell_type": "code",
   "execution_count": 17,
   "id": "7559526b",
   "metadata": {
    "execution": {
     "iopub.execute_input": "2022-05-05T04:43:23.806004Z",
     "iopub.status.busy": "2022-05-05T04:43:23.805013Z",
     "iopub.status.idle": "2022-05-05T04:43:23.807308Z",
     "shell.execute_reply": "2022-05-05T04:43:23.807831Z",
     "shell.execute_reply.started": "2022-05-02T08:14:48.584478Z"
    },
    "papermill": {
     "duration": 0.038846,
     "end_time": "2022-05-05T04:43:23.808014",
     "exception": false,
     "start_time": "2022-05-05T04:43:23.769168",
     "status": "completed"
    },
    "tags": []
   },
   "outputs": [],
   "source": [
    "def input_convert(data):\n",
    "        # -in- data - list of dict\n",
    "        # -out- inputs - dict of <key + list>\n",
    "        \n",
    "        inputs = {\n",
    "            'input_word_ids': [],\n",
    "            'input_mask': [],\n",
    "            'input_type_ids': []\n",
    "        }\n",
    "        \n",
    "        for i in data:\n",
    "            inputs['input_word_ids'].append(i['input_ids'])\n",
    "            inputs['input_mask'].append(i['attention_mask'])\n",
    "            inputs['input_type_ids'].append(i['token_type_ids'])\n",
    "            \n",
    "        inputs['input_word_ids'] = tf.ragged.constant(inputs['input_word_ids']).to_tensor()\n",
    "        inputs['input_mask'] = tf.ragged.constant(inputs['input_mask']).to_tensor()\n",
    "        inputs['input_type_ids'] = tf.ragged.constant(inputs['input_type_ids']).to_tensor()\n",
    "           \n",
    "        return inputs"
   ]
  },
  {
   "cell_type": "code",
   "execution_count": 18,
   "id": "05a38cbc",
   "metadata": {
    "execution": {
     "iopub.execute_input": "2022-05-05T04:43:23.870613Z",
     "iopub.status.busy": "2022-05-05T04:43:23.869426Z",
     "iopub.status.idle": "2022-05-05T04:43:23.879209Z",
     "shell.execute_reply": "2022-05-05T04:43:23.879692Z",
     "shell.execute_reply.started": "2022-05-02T08:14:48.596425Z"
    },
    "papermill": {
     "duration": 0.043567,
     "end_time": "2022-05-05T04:43:23.879873",
     "exception": false,
     "start_time": "2022-05-05T04:43:23.836306",
     "status": "completed"
    },
    "tags": []
   },
   "outputs": [
    {
     "data": {
      "text/plain": [
       "((12120, 5), (5195, 5), (17315, 5))"
      ]
     },
     "execution_count": 18,
     "metadata": {},
     "output_type": "execute_result"
    }
   ],
   "source": [
    "y = df_train.pop('label')\n",
    "df = pd.concat([df_train, df_test], ignore_index = True)\n",
    "df_train.shape, df_test.shape, df.shape"
   ]
  },
  {
   "cell_type": "code",
   "execution_count": 19,
   "id": "0c3b4566",
   "metadata": {
    "execution": {
     "iopub.execute_input": "2022-05-05T04:43:23.940956Z",
     "iopub.status.busy": "2022-05-05T04:43:23.940000Z",
     "iopub.status.idle": "2022-05-05T04:43:41.269279Z",
     "shell.execute_reply": "2022-05-05T04:43:41.269766Z",
     "shell.execute_reply.started": "2022-05-02T08:14:48.625855Z"
    },
    "papermill": {
     "duration": 17.361333,
     "end_time": "2022-05-05T04:43:41.269990",
     "exception": false,
     "start_time": "2022-05-05T04:43:23.908657",
     "status": "completed"
    },
    "tags": []
   },
   "outputs": [
    {
     "data": {
      "application/vnd.jupyter.widget-view+json": {
       "model_id": "2ad4a31fad854064b4514df6d4f01903",
       "version_major": 2,
       "version_minor": 0
      },
      "text/plain": [
       "Downloading:   0%|          | 0.00/625 [00:00<?, ?B/s]"
      ]
     },
     "metadata": {},
     "output_type": "display_data"
    },
    {
     "data": {
      "application/vnd.jupyter.widget-view+json": {
       "model_id": "f34038be48514822aa9ad44d0882e9fa",
       "version_major": 2,
       "version_minor": 0
      },
      "text/plain": [
       "Downloading:   0%|          | 0.00/872k [00:00<?, ?B/s]"
      ]
     },
     "metadata": {},
     "output_type": "display_data"
    },
    {
     "data": {
      "application/vnd.jupyter.widget-view+json": {
       "model_id": "3c12a81ff71a43e0b38c3abe66884ed7",
       "version_major": 2,
       "version_minor": 0
      },
      "text/plain": [
       "Downloading:   0%|          | 0.00/1.72M [00:00<?, ?B/s]"
      ]
     },
     "metadata": {},
     "output_type": "display_data"
    },
    {
     "data": {
      "application/vnd.jupyter.widget-view+json": {
       "model_id": "7c60ecd9111b4fdb94a1079c0773e83e",
       "version_major": 2,
       "version_minor": 0
      },
      "text/plain": [
       "Downloading:   0%|          | 0.00/28.0 [00:00<?, ?B/s]"
      ]
     },
     "metadata": {},
     "output_type": "display_data"
    },
    {
     "name": "stdout",
     "output_type": "stream",
     "text": [
      "<class 'transformers.models.bert.tokenization_bert_fast.BertTokenizerFast'>\n"
     ]
    }
   ],
   "source": [
    "model_name = 'bert-base-multilingual-uncased'\n",
    "\n",
    " # tokenizing\n",
    "tokenizer = AutoTokenizer.from_pretrained(model_name)\n",
    "print(type(tokenizer))\n",
    "\n",
    "mask = []\n",
    "for i in range(len(df)):\n",
    "    padded_seq = tokenizer(df['premise'][i], df['hypothesis'][i], padding = True, \n",
    "                           add_special_tokens = True, return_token_type_ids = True)\n",
    "    mask.append(padded_seq)\n",
    "\n",
    "inputs = input_convert(mask)"
   ]
  },
  {
   "cell_type": "code",
   "execution_count": 20,
   "id": "9b934ba5",
   "metadata": {
    "execution": {
     "iopub.execute_input": "2022-05-05T04:43:41.339047Z",
     "iopub.status.busy": "2022-05-05T04:43:41.338347Z",
     "iopub.status.idle": "2022-05-05T04:43:41.343674Z",
     "shell.execute_reply": "2022-05-05T04:43:41.343145Z",
     "shell.execute_reply.started": "2022-05-02T08:15:06.553134Z"
    },
    "papermill": {
     "duration": 0.042724,
     "end_time": "2022-05-05T04:43:41.343815",
     "exception": false,
     "start_time": "2022-05-05T04:43:41.301091",
     "status": "completed"
    },
    "tags": []
   },
   "outputs": [],
   "source": [
    "# split df into train and test\n",
    "inputs_train = {}\n",
    "inputs_test = {}\n",
    "\n",
    "for key in inputs.keys():\n",
    "    inputs_train[key] = inputs[key][:len(y), :]\n",
    "    inputs_test[key] = inputs[key][len(y):, :]"
   ]
  },
  {
   "cell_type": "code",
   "execution_count": 21,
   "id": "cf0fbea6",
   "metadata": {
    "execution": {
     "iopub.execute_input": "2022-05-05T04:43:41.410514Z",
     "iopub.status.busy": "2022-05-05T04:43:41.409879Z",
     "iopub.status.idle": "2022-05-05T04:48:18.545250Z",
     "shell.execute_reply": "2022-05-05T04:48:18.545770Z",
     "shell.execute_reply.started": "2022-05-02T08:15:06.565653Z"
    },
    "papermill": {
     "duration": 277.169589,
     "end_time": "2022-05-05T04:48:18.546166",
     "exception": false,
     "start_time": "2022-05-05T04:43:41.376577",
     "status": "completed"
    },
    "tags": []
   },
   "outputs": [
    {
     "data": {
      "application/vnd.jupyter.widget-view+json": {
       "model_id": "c2b79ab980fe4dfd8ee601bea7f27c77",
       "version_major": 2,
       "version_minor": 0
      },
      "text/plain": [
       "Downloading:   0%|          | 0.00/999M [00:00<?, ?B/s]"
      ]
     },
     "metadata": {},
     "output_type": "display_data"
    },
    {
     "name": "stderr",
     "output_type": "stream",
     "text": [
      "Some layers from the model checkpoint at bert-base-multilingual-uncased were not used when initializing TFBertModel: ['mlm___cls', 'nsp___cls']\n",
      "- This IS expected if you are initializing TFBertModel from the checkpoint of a model trained on another task or with another architecture (e.g. initializing a BertForSequenceClassification model from a BertForPreTraining model).\n",
      "- This IS NOT expected if you are initializing TFBertModel from the checkpoint of a model that you expect to be exactly identical (initializing a BertForSequenceClassification model from a BertForSequenceClassification model).\n",
      "All the layers of TFBertModel were initialized from the model checkpoint at bert-base-multilingual-uncased.\n",
      "If your task is similar to the task the model of the checkpoint was trained on, you can already use TFBertModel for predictions without further training.\n"
     ]
    },
    {
     "name": "stdout",
     "output_type": "stream",
     "text": [
      "Epoch 1/10\n",
      "86/86 [==============================] - 144s 2s/step - loss: 1.0716 - accuracy: 0.4099 - val_loss: 0.9741 - val_accuracy: 0.5322\n",
      "Epoch 2/10\n",
      "86/86 [==============================] - 12s 134ms/step - loss: 0.9057 - accuracy: 0.5864 - val_loss: 0.8331 - val_accuracy: 0.6163\n",
      "Epoch 3/10\n",
      "86/86 [==============================] - 12s 134ms/step - loss: 0.7796 - accuracy: 0.6580 - val_loss: 0.8118 - val_accuracy: 0.6320\n",
      "Epoch 4/10\n",
      "86/86 [==============================] - 13s 146ms/step - loss: 0.6686 - accuracy: 0.7137 - val_loss: 0.8189 - val_accuracy: 0.6469\n",
      "Epoch 5/10\n",
      "86/86 [==============================] - 12s 134ms/step - loss: 0.5634 - accuracy: 0.7706 - val_loss: 0.8329 - val_accuracy: 0.6708\n",
      "Epoch 6/10\n",
      "86/86 [==============================] - 12s 134ms/step - loss: 0.4681 - accuracy: 0.8138 - val_loss: 0.8689 - val_accuracy: 0.6733\n"
     ]
    },
    {
     "data": {
      "text/plain": [
       "<tensorflow.python.keras.callbacks.History at 0x7fb64ad76810>"
      ]
     },
     "execution_count": 21,
     "metadata": {},
     "output_type": "execute_result"
    }
   ],
   "source": [
    "# build model\n",
    "from tensorflow.keras import Input, Model\n",
    "from tensorflow.keras.layers import Dense, Dropout, GlobalAveragePooling1D\n",
    "from tensorflow.keras.optimizers import Adam\n",
    "\n",
    "with strategy.scope():\n",
    "    max_len = inputs['input_word_ids'].shape[1]\n",
    "    \n",
    "    encoder = TFAutoModel.from_pretrained(model_name)\n",
    "    \n",
    "    input_word_ids = Input(shape=(max_len,), dtype=tf.int32, name=\"input_word_ids\")\n",
    "    input_mask = Input(shape=(max_len,), dtype=tf.int32, name=\"input_mask\")\n",
    "    input_type_ids = Input(shape=(max_len,), dtype=tf.int32, name=\"input_type_ids\")\n",
    "\n",
    "    embedding = encoder([input_word_ids, input_mask, input_type_ids])[0]\n",
    "    dense1 = Dense(256, activation='relu')(embedding[:,0,:])\n",
    "    dense2 = Dense(32, activation='relu')(dense1)\n",
    "    output = Dense(3, activation='softmax')(dense2)\n",
    "\n",
    "    model = Model(inputs=[input_word_ids, input_mask, input_type_ids], outputs = output)\n",
    "    model.compile(Adam(lr=1e-5), loss='sparse_categorical_crossentropy', metrics=['accuracy'], steps_per_execution = 100)\n",
    "\n",
    "# fit the model\n",
    "early_stop = tf.keras.callbacks.EarlyStopping(patience = 3, restore_best_weights = True)\n",
    "model.fit(inputs_train, y.values, epochs = 10, verbose = 1, validation_split = 0.1,\n",
    "                    batch_size = 16 * strategy.num_replicas_in_sync, callbacks = [early_stop])"
   ]
  },
  {
   "cell_type": "code",
   "execution_count": 22,
   "id": "2858f376",
   "metadata": {
    "execution": {
     "iopub.execute_input": "2022-05-05T04:48:18.627603Z",
     "iopub.status.busy": "2022-05-05T04:48:18.626733Z",
     "iopub.status.idle": "2022-05-05T04:48:44.124509Z",
     "shell.execute_reply": "2022-05-05T04:48:44.123817Z",
     "shell.execute_reply.started": "2022-05-02T08:19:43.934322Z"
    },
    "papermill": {
     "duration": 25.540615,
     "end_time": "2022-05-05T04:48:44.124674",
     "exception": false,
     "start_time": "2022-05-05T04:48:18.584059",
     "status": "completed"
    },
    "tags": []
   },
   "outputs": [],
   "source": [
    "# make predictions\n",
    "predictions = [np.argmax(i) for i in model.predict(inputs_test)]"
   ]
  },
  {
   "cell_type": "code",
   "execution_count": 23,
   "id": "dc6d9528",
   "metadata": {
    "execution": {
     "iopub.execute_input": "2022-05-05T04:48:44.213691Z",
     "iopub.status.busy": "2022-05-05T04:48:44.212831Z",
     "iopub.status.idle": "2022-05-05T04:48:44.216067Z",
     "shell.execute_reply": "2022-05-05T04:48:44.216540Z",
     "shell.execute_reply.started": "2022-05-02T08:21:49.784466Z"
    },
    "papermill": {
     "duration": 0.053836,
     "end_time": "2022-05-05T04:48:44.216704",
     "exception": false,
     "start_time": "2022-05-05T04:48:44.162868",
     "status": "completed"
    },
    "tags": []
   },
   "outputs": [],
   "source": [
    "# submit the result\n",
    "submission = df_test.id.copy().to_frame()\n",
    "submission['prediction'] = predictions"
   ]
  },
  {
   "cell_type": "code",
   "execution_count": 24,
   "id": "accdcedc",
   "metadata": {
    "execution": {
     "iopub.execute_input": "2022-05-05T04:48:44.302124Z",
     "iopub.status.busy": "2022-05-05T04:48:44.301310Z",
     "iopub.status.idle": "2022-05-05T04:48:44.304376Z",
     "shell.execute_reply": "2022-05-05T04:48:44.304833Z",
     "shell.execute_reply.started": "2022-05-02T08:22:07.73799Z"
    },
    "papermill": {
     "duration": 0.050842,
     "end_time": "2022-05-05T04:48:44.305030",
     "exception": false,
     "start_time": "2022-05-05T04:48:44.254188",
     "status": "completed"
    },
    "tags": []
   },
   "outputs": [
    {
     "data": {
      "text/html": [
       "<div>\n",
       "<style scoped>\n",
       "    .dataframe tbody tr th:only-of-type {\n",
       "        vertical-align: middle;\n",
       "    }\n",
       "\n",
       "    .dataframe tbody tr th {\n",
       "        vertical-align: top;\n",
       "    }\n",
       "\n",
       "    .dataframe thead th {\n",
       "        text-align: right;\n",
       "    }\n",
       "</style>\n",
       "<table border=\"1\" class=\"dataframe\">\n",
       "  <thead>\n",
       "    <tr style=\"text-align: right;\">\n",
       "      <th></th>\n",
       "      <th>id</th>\n",
       "      <th>prediction</th>\n",
       "    </tr>\n",
       "  </thead>\n",
       "  <tbody>\n",
       "    <tr>\n",
       "      <th>0</th>\n",
       "      <td>c6d58c3f69</td>\n",
       "      <td>2</td>\n",
       "    </tr>\n",
       "    <tr>\n",
       "      <th>1</th>\n",
       "      <td>cefcc82292</td>\n",
       "      <td>1</td>\n",
       "    </tr>\n",
       "    <tr>\n",
       "      <th>2</th>\n",
       "      <td>e98005252c</td>\n",
       "      <td>0</td>\n",
       "    </tr>\n",
       "    <tr>\n",
       "      <th>3</th>\n",
       "      <td>58518c10ba</td>\n",
       "      <td>1</td>\n",
       "    </tr>\n",
       "    <tr>\n",
       "      <th>4</th>\n",
       "      <td>c32b0d16df</td>\n",
       "      <td>1</td>\n",
       "    </tr>\n",
       "  </tbody>\n",
       "</table>\n",
       "</div>"
      ],
      "text/plain": [
       "           id  prediction\n",
       "0  c6d58c3f69           2\n",
       "1  cefcc82292           1\n",
       "2  e98005252c           0\n",
       "3  58518c10ba           1\n",
       "4  c32b0d16df           1"
      ]
     },
     "execution_count": 24,
     "metadata": {},
     "output_type": "execute_result"
    }
   ],
   "source": [
    "submission.head()"
   ]
  },
  {
   "cell_type": "code",
   "execution_count": 25,
   "id": "b94d223d",
   "metadata": {
    "execution": {
     "iopub.execute_input": "2022-05-05T04:48:44.386208Z",
     "iopub.status.busy": "2022-05-05T04:48:44.385546Z",
     "iopub.status.idle": "2022-05-05T04:48:44.388411Z",
     "shell.execute_reply": "2022-05-05T04:48:44.388991Z",
     "shell.execute_reply.started": "2022-05-02T08:22:25.406278Z"
    },
    "papermill": {
     "duration": 0.046216,
     "end_time": "2022-05-05T04:48:44.389156",
     "exception": false,
     "start_time": "2022-05-05T04:48:44.342940",
     "status": "completed"
    },
    "tags": []
   },
   "outputs": [
    {
     "data": {
      "text/plain": [
       "(5195, 2)"
      ]
     },
     "execution_count": 25,
     "metadata": {},
     "output_type": "execute_result"
    }
   ],
   "source": [
    "submission.shape"
   ]
  },
  {
   "cell_type": "code",
   "execution_count": 26,
   "id": "a2f3eeb6",
   "metadata": {
    "execution": {
     "iopub.execute_input": "2022-05-05T04:48:44.469149Z",
     "iopub.status.busy": "2022-05-05T04:48:44.468517Z",
     "iopub.status.idle": "2022-05-05T04:48:44.486956Z",
     "shell.execute_reply": "2022-05-05T04:48:44.487479Z",
     "shell.execute_reply.started": "2022-05-02T08:22:57.481423Z"
    },
    "papermill": {
     "duration": 0.060044,
     "end_time": "2022-05-05T04:48:44.487660",
     "exception": false,
     "start_time": "2022-05-05T04:48:44.427616",
     "status": "completed"
    },
    "tags": []
   },
   "outputs": [],
   "source": [
    "submission.to_csv(\"submission.csv\", index = False)"
   ]
  }
 ],
 "metadata": {
  "kernelspec": {
   "display_name": "Python 3",
   "language": "python",
   "name": "python3"
  },
  "language_info": {
   "codemirror_mode": {
    "name": "ipython",
    "version": 3
   },
   "file_extension": ".py",
   "mimetype": "text/x-python",
   "name": "python",
   "nbconvert_exporter": "python",
   "pygments_lexer": "ipython3",
   "version": "3.7.10"
  },
  "papermill": {
   "default_parameters": {},
   "duration": 354.848235,
   "end_time": "2022-05-05T04:48:47.200827",
   "environment_variables": {},
   "exception": null,
   "input_path": "__notebook__.ipynb",
   "output_path": "__notebook__.ipynb",
   "parameters": {},
   "start_time": "2022-05-05T04:42:52.352592",
   "version": "2.3.3"
  },
  "widgets": {
   "application/vnd.jupyter.widget-state+json": {
    "state": {
     "0a15f57a3bdd4aa8b451f350323ffeb2": {
      "model_module": "@jupyter-widgets/controls",
      "model_module_version": "1.5.0",
      "model_name": "HTMLModel",
      "state": {
       "_dom_classes": [],
       "_model_module": "@jupyter-widgets/controls",
       "_model_module_version": "1.5.0",
       "_model_name": "HTMLModel",
       "_view_count": null,
       "_view_module": "@jupyter-widgets/controls",
       "_view_module_version": "1.5.0",
       "_view_name": "HTMLView",
       "description": "",
       "description_tooltip": null,
       "layout": "IPY_MODEL_d63e5b8ff48846ca8f192ddf03cd1d84",
       "placeholder": "​",
       "style": "IPY_MODEL_0ee1c2ce060b4148909cbfcd05a25f31",
       "value": "Downloading: 100%"
      }
     },
     "0c237ae76547421cbd65d36f7511482c": {
      "model_module": "@jupyter-widgets/controls",
      "model_module_version": "1.5.0",
      "model_name": "ProgressStyleModel",
      "state": {
       "_model_module": "@jupyter-widgets/controls",
       "_model_module_version": "1.5.0",
       "_model_name": "ProgressStyleModel",
       "_view_count": null,
       "_view_module": "@jupyter-widgets/base",
       "_view_module_version": "1.2.0",
       "_view_name": "StyleView",
       "bar_color": null,
       "description_width": ""
      }
     },
     "0ee1c2ce060b4148909cbfcd05a25f31": {
      "model_module": "@jupyter-widgets/controls",
      "model_module_version": "1.5.0",
      "model_name": "DescriptionStyleModel",
      "state": {
       "_model_module": "@jupyter-widgets/controls",
       "_model_module_version": "1.5.0",
       "_model_name": "DescriptionStyleModel",
       "_view_count": null,
       "_view_module": "@jupyter-widgets/base",
       "_view_module_version": "1.2.0",
       "_view_name": "StyleView",
       "description_width": ""
      }
     },
     "11669cf5439748948e2489fd5d270c02": {
      "model_module": "@jupyter-widgets/controls",
      "model_module_version": "1.5.0",
      "model_name": "HTMLModel",
      "state": {
       "_dom_classes": [],
       "_model_module": "@jupyter-widgets/controls",
       "_model_module_version": "1.5.0",
       "_model_name": "HTMLModel",
       "_view_count": null,
       "_view_module": "@jupyter-widgets/controls",
       "_view_module_version": "1.5.0",
       "_view_name": "HTMLView",
       "description": "",
       "description_tooltip": null,
       "layout": "IPY_MODEL_5fa1a7206f7440da890df172a9d8b410",
       "placeholder": "​",
       "style": "IPY_MODEL_a79ce251bab141f08a79037567be1bcc",
       "value": " 999M/999M [00:24&lt;00:00, 41.9MB/s]"
      }
     },
     "287696dd9c4048ccafe744232ff0f35d": {
      "model_module": "@jupyter-widgets/controls",
      "model_module_version": "1.5.0",
      "model_name": "DescriptionStyleModel",
      "state": {
       "_model_module": "@jupyter-widgets/controls",
       "_model_module_version": "1.5.0",
       "_model_name": "DescriptionStyleModel",
       "_view_count": null,
       "_view_module": "@jupyter-widgets/base",
       "_view_module_version": "1.2.0",
       "_view_name": "StyleView",
       "description_width": ""
      }
     },
     "2ababf7fe4b4466696c5fc7904a6f7ed": {
      "model_module": "@jupyter-widgets/controls",
      "model_module_version": "1.5.0",
      "model_name": "DescriptionStyleModel",
      "state": {
       "_model_module": "@jupyter-widgets/controls",
       "_model_module_version": "1.5.0",
       "_model_name": "DescriptionStyleModel",
       "_view_count": null,
       "_view_module": "@jupyter-widgets/base",
       "_view_module_version": "1.2.0",
       "_view_name": "StyleView",
       "description_width": ""
      }
     },
     "2ad4a31fad854064b4514df6d4f01903": {
      "model_module": "@jupyter-widgets/controls",
      "model_module_version": "1.5.0",
      "model_name": "HBoxModel",
      "state": {
       "_dom_classes": [],
       "_model_module": "@jupyter-widgets/controls",
       "_model_module_version": "1.5.0",
       "_model_name": "HBoxModel",
       "_view_count": null,
       "_view_module": "@jupyter-widgets/controls",
       "_view_module_version": "1.5.0",
       "_view_name": "HBoxView",
       "box_style": "",
       "children": [
        "IPY_MODEL_f98dfa43ddcc4bda805908705c142b56",
        "IPY_MODEL_4bb0478abbf546e2ade210c50e6d56f4",
        "IPY_MODEL_a71add62b0d54143ab5304775509ff92"
       ],
       "layout": "IPY_MODEL_3550fabf55c644e5ba913d9f7d221ca2"
      }
     },
     "3330490b19874aecb94bdb25d5a641df": {
      "model_module": "@jupyter-widgets/controls",
      "model_module_version": "1.5.0",
      "model_name": "DescriptionStyleModel",
      "state": {
       "_model_module": "@jupyter-widgets/controls",
       "_model_module_version": "1.5.0",
       "_model_name": "DescriptionStyleModel",
       "_view_count": null,
       "_view_module": "@jupyter-widgets/base",
       "_view_module_version": "1.2.0",
       "_view_name": "StyleView",
       "description_width": ""
      }
     },
     "33fc4cc4756b423abe2e3416fc4cb70b": {
      "model_module": "@jupyter-widgets/controls",
      "model_module_version": "1.5.0",
      "model_name": "HTMLModel",
      "state": {
       "_dom_classes": [],
       "_model_module": "@jupyter-widgets/controls",
       "_model_module_version": "1.5.0",
       "_model_name": "HTMLModel",
       "_view_count": null,
       "_view_module": "@jupyter-widgets/controls",
       "_view_module_version": "1.5.0",
       "_view_name": "HTMLView",
       "description": "",
       "description_tooltip": null,
       "layout": "IPY_MODEL_584fa6a45b9845e7a1fe5038cf399caf",
       "placeholder": "​",
       "style": "IPY_MODEL_bbdc1bdb9024463dbd8d7c8100725902",
       "value": " 1.72M/1.72M [00:00&lt;00:00, 8.48MB/s]"
      }
     },
     "3550fabf55c644e5ba913d9f7d221ca2": {
      "model_module": "@jupyter-widgets/base",
      "model_module_version": "1.2.0",
      "model_name": "LayoutModel",
      "state": {
       "_model_module": "@jupyter-widgets/base",
       "_model_module_version": "1.2.0",
       "_model_name": "LayoutModel",
       "_view_count": null,
       "_view_module": "@jupyter-widgets/base",
       "_view_module_version": "1.2.0",
       "_view_name": "LayoutView",
       "align_content": null,
       "align_items": null,
       "align_self": null,
       "border": null,
       "bottom": null,
       "display": null,
       "flex": null,
       "flex_flow": null,
       "grid_area": null,
       "grid_auto_columns": null,
       "grid_auto_flow": null,
       "grid_auto_rows": null,
       "grid_column": null,
       "grid_gap": null,
       "grid_row": null,
       "grid_template_areas": null,
       "grid_template_columns": null,
       "grid_template_rows": null,
       "height": null,
       "justify_content": null,
       "justify_items": null,
       "left": null,
       "margin": null,
       "max_height": null,
       "max_width": null,
       "min_height": null,
       "min_width": null,
       "object_fit": null,
       "object_position": null,
       "order": null,
       "overflow": null,
       "overflow_x": null,
       "overflow_y": null,
       "padding": null,
       "right": null,
       "top": null,
       "visibility": null,
       "width": null
      }
     },
     "3c12a81ff71a43e0b38c3abe66884ed7": {
      "model_module": "@jupyter-widgets/controls",
      "model_module_version": "1.5.0",
      "model_name": "HBoxModel",
      "state": {
       "_dom_classes": [],
       "_model_module": "@jupyter-widgets/controls",
       "_model_module_version": "1.5.0",
       "_model_name": "HBoxModel",
       "_view_count": null,
       "_view_module": "@jupyter-widgets/controls",
       "_view_module_version": "1.5.0",
       "_view_name": "HBoxView",
       "box_style": "",
       "children": [
        "IPY_MODEL_df83ef8eb574435c93b1847f769b6bb0",
        "IPY_MODEL_7a426dd8cd1f4f77b0978012873bfa50",
        "IPY_MODEL_33fc4cc4756b423abe2e3416fc4cb70b"
       ],
       "layout": "IPY_MODEL_ef2aca586f664a9881901138a8e538bb"
      }
     },
     "3dfcc21cc7994dcfa62485fe3d6dbfa7": {
      "model_module": "@jupyter-widgets/base",
      "model_module_version": "1.2.0",
      "model_name": "LayoutModel",
      "state": {
       "_model_module": "@jupyter-widgets/base",
       "_model_module_version": "1.2.0",
       "_model_name": "LayoutModel",
       "_view_count": null,
       "_view_module": "@jupyter-widgets/base",
       "_view_module_version": "1.2.0",
       "_view_name": "LayoutView",
       "align_content": null,
       "align_items": null,
       "align_self": null,
       "border": null,
       "bottom": null,
       "display": null,
       "flex": null,
       "flex_flow": null,
       "grid_area": null,
       "grid_auto_columns": null,
       "grid_auto_flow": null,
       "grid_auto_rows": null,
       "grid_column": null,
       "grid_gap": null,
       "grid_row": null,
       "grid_template_areas": null,
       "grid_template_columns": null,
       "grid_template_rows": null,
       "height": null,
       "justify_content": null,
       "justify_items": null,
       "left": null,
       "margin": null,
       "max_height": null,
       "max_width": null,
       "min_height": null,
       "min_width": null,
       "object_fit": null,
       "object_position": null,
       "order": null,
       "overflow": null,
       "overflow_x": null,
       "overflow_y": null,
       "padding": null,
       "right": null,
       "top": null,
       "visibility": null,
       "width": null
      }
     },
     "4bb0478abbf546e2ade210c50e6d56f4": {
      "model_module": "@jupyter-widgets/controls",
      "model_module_version": "1.5.0",
      "model_name": "FloatProgressModel",
      "state": {
       "_dom_classes": [],
       "_model_module": "@jupyter-widgets/controls",
       "_model_module_version": "1.5.0",
       "_model_name": "FloatProgressModel",
       "_view_count": null,
       "_view_module": "@jupyter-widgets/controls",
       "_view_module_version": "1.5.0",
       "_view_name": "ProgressView",
       "bar_style": "success",
       "description": "",
       "description_tooltip": null,
       "layout": "IPY_MODEL_832c0b7cd88c42079b0ad61ba434049a",
       "max": 625.0,
       "min": 0.0,
       "orientation": "horizontal",
       "style": "IPY_MODEL_ce59c387132d4c90985d839f544436e9",
       "value": 625.0
      }
     },
     "4be9c455c10144ba9d22a6aab8b3a082": {
      "model_module": "@jupyter-widgets/controls",
      "model_module_version": "1.5.0",
      "model_name": "HTMLModel",
      "state": {
       "_dom_classes": [],
       "_model_module": "@jupyter-widgets/controls",
       "_model_module_version": "1.5.0",
       "_model_name": "HTMLModel",
       "_view_count": null,
       "_view_module": "@jupyter-widgets/controls",
       "_view_module_version": "1.5.0",
       "_view_name": "HTMLView",
       "description": "",
       "description_tooltip": null,
       "layout": "IPY_MODEL_6e907fa9b489439fafda81338d4316b7",
       "placeholder": "​",
       "style": "IPY_MODEL_287696dd9c4048ccafe744232ff0f35d",
       "value": "Downloading: 100%"
      }
     },
     "4cb76576818f4e0287dde1ec76e6bc00": {
      "model_module": "@jupyter-widgets/base",
      "model_module_version": "1.2.0",
      "model_name": "LayoutModel",
      "state": {
       "_model_module": "@jupyter-widgets/base",
       "_model_module_version": "1.2.0",
       "_model_name": "LayoutModel",
       "_view_count": null,
       "_view_module": "@jupyter-widgets/base",
       "_view_module_version": "1.2.0",
       "_view_name": "LayoutView",
       "align_content": null,
       "align_items": null,
       "align_self": null,
       "border": null,
       "bottom": null,
       "display": null,
       "flex": null,
       "flex_flow": null,
       "grid_area": null,
       "grid_auto_columns": null,
       "grid_auto_flow": null,
       "grid_auto_rows": null,
       "grid_column": null,
       "grid_gap": null,
       "grid_row": null,
       "grid_template_areas": null,
       "grid_template_columns": null,
       "grid_template_rows": null,
       "height": null,
       "justify_content": null,
       "justify_items": null,
       "left": null,
       "margin": null,
       "max_height": null,
       "max_width": null,
       "min_height": null,
       "min_width": null,
       "object_fit": null,
       "object_position": null,
       "order": null,
       "overflow": null,
       "overflow_x": null,
       "overflow_y": null,
       "padding": null,
       "right": null,
       "top": null,
       "visibility": null,
       "width": null
      }
     },
     "4def6255163e4c3db4c664b2c52a89e2": {
      "model_module": "@jupyter-widgets/base",
      "model_module_version": "1.2.0",
      "model_name": "LayoutModel",
      "state": {
       "_model_module": "@jupyter-widgets/base",
       "_model_module_version": "1.2.0",
       "_model_name": "LayoutModel",
       "_view_count": null,
       "_view_module": "@jupyter-widgets/base",
       "_view_module_version": "1.2.0",
       "_view_name": "LayoutView",
       "align_content": null,
       "align_items": null,
       "align_self": null,
       "border": null,
       "bottom": null,
       "display": null,
       "flex": null,
       "flex_flow": null,
       "grid_area": null,
       "grid_auto_columns": null,
       "grid_auto_flow": null,
       "grid_auto_rows": null,
       "grid_column": null,
       "grid_gap": null,
       "grid_row": null,
       "grid_template_areas": null,
       "grid_template_columns": null,
       "grid_template_rows": null,
       "height": null,
       "justify_content": null,
       "justify_items": null,
       "left": null,
       "margin": null,
       "max_height": null,
       "max_width": null,
       "min_height": null,
       "min_width": null,
       "object_fit": null,
       "object_position": null,
       "order": null,
       "overflow": null,
       "overflow_x": null,
       "overflow_y": null,
       "padding": null,
       "right": null,
       "top": null,
       "visibility": null,
       "width": null
      }
     },
     "560fbcdfe2f748829d9ab23fd1764077": {
      "model_module": "@jupyter-widgets/controls",
      "model_module_version": "1.5.0",
      "model_name": "DescriptionStyleModel",
      "state": {
       "_model_module": "@jupyter-widgets/controls",
       "_model_module_version": "1.5.0",
       "_model_name": "DescriptionStyleModel",
       "_view_count": null,
       "_view_module": "@jupyter-widgets/base",
       "_view_module_version": "1.2.0",
       "_view_name": "StyleView",
       "description_width": ""
      }
     },
     "584fa6a45b9845e7a1fe5038cf399caf": {
      "model_module": "@jupyter-widgets/base",
      "model_module_version": "1.2.0",
      "model_name": "LayoutModel",
      "state": {
       "_model_module": "@jupyter-widgets/base",
       "_model_module_version": "1.2.0",
       "_model_name": "LayoutModel",
       "_view_count": null,
       "_view_module": "@jupyter-widgets/base",
       "_view_module_version": "1.2.0",
       "_view_name": "LayoutView",
       "align_content": null,
       "align_items": null,
       "align_self": null,
       "border": null,
       "bottom": null,
       "display": null,
       "flex": null,
       "flex_flow": null,
       "grid_area": null,
       "grid_auto_columns": null,
       "grid_auto_flow": null,
       "grid_auto_rows": null,
       "grid_column": null,
       "grid_gap": null,
       "grid_row": null,
       "grid_template_areas": null,
       "grid_template_columns": null,
       "grid_template_rows": null,
       "height": null,
       "justify_content": null,
       "justify_items": null,
       "left": null,
       "margin": null,
       "max_height": null,
       "max_width": null,
       "min_height": null,
       "min_width": null,
       "object_fit": null,
       "object_position": null,
       "order": null,
       "overflow": null,
       "overflow_x": null,
       "overflow_y": null,
       "padding": null,
       "right": null,
       "top": null,
       "visibility": null,
       "width": null
      }
     },
     "5f120ec1e9204ff5b4efb8aecdaea56b": {
      "model_module": "@jupyter-widgets/controls",
      "model_module_version": "1.5.0",
      "model_name": "ProgressStyleModel",
      "state": {
       "_model_module": "@jupyter-widgets/controls",
       "_model_module_version": "1.5.0",
       "_model_name": "ProgressStyleModel",
       "_view_count": null,
       "_view_module": "@jupyter-widgets/base",
       "_view_module_version": "1.2.0",
       "_view_name": "StyleView",
       "bar_color": null,
       "description_width": ""
      }
     },
     "5fa1a7206f7440da890df172a9d8b410": {
      "model_module": "@jupyter-widgets/base",
      "model_module_version": "1.2.0",
      "model_name": "LayoutModel",
      "state": {
       "_model_module": "@jupyter-widgets/base",
       "_model_module_version": "1.2.0",
       "_model_name": "LayoutModel",
       "_view_count": null,
       "_view_module": "@jupyter-widgets/base",
       "_view_module_version": "1.2.0",
       "_view_name": "LayoutView",
       "align_content": null,
       "align_items": null,
       "align_self": null,
       "border": null,
       "bottom": null,
       "display": null,
       "flex": null,
       "flex_flow": null,
       "grid_area": null,
       "grid_auto_columns": null,
       "grid_auto_flow": null,
       "grid_auto_rows": null,
       "grid_column": null,
       "grid_gap": null,
       "grid_row": null,
       "grid_template_areas": null,
       "grid_template_columns": null,
       "grid_template_rows": null,
       "height": null,
       "justify_content": null,
       "justify_items": null,
       "left": null,
       "margin": null,
       "max_height": null,
       "max_width": null,
       "min_height": null,
       "min_width": null,
       "object_fit": null,
       "object_position": null,
       "order": null,
       "overflow": null,
       "overflow_x": null,
       "overflow_y": null,
       "padding": null,
       "right": null,
       "top": null,
       "visibility": null,
       "width": null
      }
     },
     "6e907fa9b489439fafda81338d4316b7": {
      "model_module": "@jupyter-widgets/base",
      "model_module_version": "1.2.0",
      "model_name": "LayoutModel",
      "state": {
       "_model_module": "@jupyter-widgets/base",
       "_model_module_version": "1.2.0",
       "_model_name": "LayoutModel",
       "_view_count": null,
       "_view_module": "@jupyter-widgets/base",
       "_view_module_version": "1.2.0",
       "_view_name": "LayoutView",
       "align_content": null,
       "align_items": null,
       "align_self": null,
       "border": null,
       "bottom": null,
       "display": null,
       "flex": null,
       "flex_flow": null,
       "grid_area": null,
       "grid_auto_columns": null,
       "grid_auto_flow": null,
       "grid_auto_rows": null,
       "grid_column": null,
       "grid_gap": null,
       "grid_row": null,
       "grid_template_areas": null,
       "grid_template_columns": null,
       "grid_template_rows": null,
       "height": null,
       "justify_content": null,
       "justify_items": null,
       "left": null,
       "margin": null,
       "max_height": null,
       "max_width": null,
       "min_height": null,
       "min_width": null,
       "object_fit": null,
       "object_position": null,
       "order": null,
       "overflow": null,
       "overflow_x": null,
       "overflow_y": null,
       "padding": null,
       "right": null,
       "top": null,
       "visibility": null,
       "width": null
      }
     },
     "731abd84bc7946afb7575fbce68f7cde": {
      "model_module": "@jupyter-widgets/base",
      "model_module_version": "1.2.0",
      "model_name": "LayoutModel",
      "state": {
       "_model_module": "@jupyter-widgets/base",
       "_model_module_version": "1.2.0",
       "_model_name": "LayoutModel",
       "_view_count": null,
       "_view_module": "@jupyter-widgets/base",
       "_view_module_version": "1.2.0",
       "_view_name": "LayoutView",
       "align_content": null,
       "align_items": null,
       "align_self": null,
       "border": null,
       "bottom": null,
       "display": null,
       "flex": null,
       "flex_flow": null,
       "grid_area": null,
       "grid_auto_columns": null,
       "grid_auto_flow": null,
       "grid_auto_rows": null,
       "grid_column": null,
       "grid_gap": null,
       "grid_row": null,
       "grid_template_areas": null,
       "grid_template_columns": null,
       "grid_template_rows": null,
       "height": null,
       "justify_content": null,
       "justify_items": null,
       "left": null,
       "margin": null,
       "max_height": null,
       "max_width": null,
       "min_height": null,
       "min_width": null,
       "object_fit": null,
       "object_position": null,
       "order": null,
       "overflow": null,
       "overflow_x": null,
       "overflow_y": null,
       "padding": null,
       "right": null,
       "top": null,
       "visibility": null,
       "width": null
      }
     },
     "7a426dd8cd1f4f77b0978012873bfa50": {
      "model_module": "@jupyter-widgets/controls",
      "model_module_version": "1.5.0",
      "model_name": "FloatProgressModel",
      "state": {
       "_dom_classes": [],
       "_model_module": "@jupyter-widgets/controls",
       "_model_module_version": "1.5.0",
       "_model_name": "FloatProgressModel",
       "_view_count": null,
       "_view_module": "@jupyter-widgets/controls",
       "_view_module_version": "1.5.0",
       "_view_name": "ProgressView",
       "bar_style": "success",
       "description": "",
       "description_tooltip": null,
       "layout": "IPY_MODEL_af49fc27fe25406db93a7774a1bccf4b",
       "max": 1715180.0,
       "min": 0.0,
       "orientation": "horizontal",
       "style": "IPY_MODEL_0c237ae76547421cbd65d36f7511482c",
       "value": 1715180.0
      }
     },
     "7b1e50d12783407688b0d601f65665d4": {
      "model_module": "@jupyter-widgets/controls",
      "model_module_version": "1.5.0",
      "model_name": "DescriptionStyleModel",
      "state": {
       "_model_module": "@jupyter-widgets/controls",
       "_model_module_version": "1.5.0",
       "_model_name": "DescriptionStyleModel",
       "_view_count": null,
       "_view_module": "@jupyter-widgets/base",
       "_view_module_version": "1.2.0",
       "_view_name": "StyleView",
       "description_width": ""
      }
     },
     "7c60ecd9111b4fdb94a1079c0773e83e": {
      "model_module": "@jupyter-widgets/controls",
      "model_module_version": "1.5.0",
      "model_name": "HBoxModel",
      "state": {
       "_dom_classes": [],
       "_model_module": "@jupyter-widgets/controls",
       "_model_module_version": "1.5.0",
       "_model_name": "HBoxModel",
       "_view_count": null,
       "_view_module": "@jupyter-widgets/controls",
       "_view_module_version": "1.5.0",
       "_view_name": "HBoxView",
       "box_style": "",
       "children": [
        "IPY_MODEL_0a15f57a3bdd4aa8b451f350323ffeb2",
        "IPY_MODEL_f72bfa4a66bf4efb9d7c603fc9259f5d",
        "IPY_MODEL_f24a3d3ec5ec4f3bae2601e58db1c2a4"
       ],
       "layout": "IPY_MODEL_cf64614a190741e0a510fa8cb19d5341"
      }
     },
     "832c0b7cd88c42079b0ad61ba434049a": {
      "model_module": "@jupyter-widgets/base",
      "model_module_version": "1.2.0",
      "model_name": "LayoutModel",
      "state": {
       "_model_module": "@jupyter-widgets/base",
       "_model_module_version": "1.2.0",
       "_model_name": "LayoutModel",
       "_view_count": null,
       "_view_module": "@jupyter-widgets/base",
       "_view_module_version": "1.2.0",
       "_view_name": "LayoutView",
       "align_content": null,
       "align_items": null,
       "align_self": null,
       "border": null,
       "bottom": null,
       "display": null,
       "flex": null,
       "flex_flow": null,
       "grid_area": null,
       "grid_auto_columns": null,
       "grid_auto_flow": null,
       "grid_auto_rows": null,
       "grid_column": null,
       "grid_gap": null,
       "grid_row": null,
       "grid_template_areas": null,
       "grid_template_columns": null,
       "grid_template_rows": null,
       "height": null,
       "justify_content": null,
       "justify_items": null,
       "left": null,
       "margin": null,
       "max_height": null,
       "max_width": null,
       "min_height": null,
       "min_width": null,
       "object_fit": null,
       "object_position": null,
       "order": null,
       "overflow": null,
       "overflow_x": null,
       "overflow_y": null,
       "padding": null,
       "right": null,
       "top": null,
       "visibility": null,
       "width": null
      }
     },
     "89d1ba34f2ef44d4826240cd762a2188": {
      "model_module": "@jupyter-widgets/base",
      "model_module_version": "1.2.0",
      "model_name": "LayoutModel",
      "state": {
       "_model_module": "@jupyter-widgets/base",
       "_model_module_version": "1.2.0",
       "_model_name": "LayoutModel",
       "_view_count": null,
       "_view_module": "@jupyter-widgets/base",
       "_view_module_version": "1.2.0",
       "_view_name": "LayoutView",
       "align_content": null,
       "align_items": null,
       "align_self": null,
       "border": null,
       "bottom": null,
       "display": null,
       "flex": null,
       "flex_flow": null,
       "grid_area": null,
       "grid_auto_columns": null,
       "grid_auto_flow": null,
       "grid_auto_rows": null,
       "grid_column": null,
       "grid_gap": null,
       "grid_row": null,
       "grid_template_areas": null,
       "grid_template_columns": null,
       "grid_template_rows": null,
       "height": null,
       "justify_content": null,
       "justify_items": null,
       "left": null,
       "margin": null,
       "max_height": null,
       "max_width": null,
       "min_height": null,
       "min_width": null,
       "object_fit": null,
       "object_position": null,
       "order": null,
       "overflow": null,
       "overflow_x": null,
       "overflow_y": null,
       "padding": null,
       "right": null,
       "top": null,
       "visibility": null,
       "width": null
      }
     },
     "92e0961803414950926a05dbdcd45413": {
      "model_module": "@jupyter-widgets/base",
      "model_module_version": "1.2.0",
      "model_name": "LayoutModel",
      "state": {
       "_model_module": "@jupyter-widgets/base",
       "_model_module_version": "1.2.0",
       "_model_name": "LayoutModel",
       "_view_count": null,
       "_view_module": "@jupyter-widgets/base",
       "_view_module_version": "1.2.0",
       "_view_name": "LayoutView",
       "align_content": null,
       "align_items": null,
       "align_self": null,
       "border": null,
       "bottom": null,
       "display": null,
       "flex": null,
       "flex_flow": null,
       "grid_area": null,
       "grid_auto_columns": null,
       "grid_auto_flow": null,
       "grid_auto_rows": null,
       "grid_column": null,
       "grid_gap": null,
       "grid_row": null,
       "grid_template_areas": null,
       "grid_template_columns": null,
       "grid_template_rows": null,
       "height": null,
       "justify_content": null,
       "justify_items": null,
       "left": null,
       "margin": null,
       "max_height": null,
       "max_width": null,
       "min_height": null,
       "min_width": null,
       "object_fit": null,
       "object_position": null,
       "order": null,
       "overflow": null,
       "overflow_x": null,
       "overflow_y": null,
       "padding": null,
       "right": null,
       "top": null,
       "visibility": null,
       "width": null
      }
     },
     "a71add62b0d54143ab5304775509ff92": {
      "model_module": "@jupyter-widgets/controls",
      "model_module_version": "1.5.0",
      "model_name": "HTMLModel",
      "state": {
       "_dom_classes": [],
       "_model_module": "@jupyter-widgets/controls",
       "_model_module_version": "1.5.0",
       "_model_name": "HTMLModel",
       "_view_count": null,
       "_view_module": "@jupyter-widgets/controls",
       "_view_module_version": "1.5.0",
       "_view_name": "HTMLView",
       "description": "",
       "description_tooltip": null,
       "layout": "IPY_MODEL_92e0961803414950926a05dbdcd45413",
       "placeholder": "​",
       "style": "IPY_MODEL_7b1e50d12783407688b0d601f65665d4",
       "value": " 625/625 [00:00&lt;00:00, 19.9kB/s]"
      }
     },
     "a79ce251bab141f08a79037567be1bcc": {
      "model_module": "@jupyter-widgets/controls",
      "model_module_version": "1.5.0",
      "model_name": "DescriptionStyleModel",
      "state": {
       "_model_module": "@jupyter-widgets/controls",
       "_model_module_version": "1.5.0",
       "_model_name": "DescriptionStyleModel",
       "_view_count": null,
       "_view_module": "@jupyter-widgets/base",
       "_view_module_version": "1.2.0",
       "_view_name": "StyleView",
       "description_width": ""
      }
     },
     "af49fc27fe25406db93a7774a1bccf4b": {
      "model_module": "@jupyter-widgets/base",
      "model_module_version": "1.2.0",
      "model_name": "LayoutModel",
      "state": {
       "_model_module": "@jupyter-widgets/base",
       "_model_module_version": "1.2.0",
       "_model_name": "LayoutModel",
       "_view_count": null,
       "_view_module": "@jupyter-widgets/base",
       "_view_module_version": "1.2.0",
       "_view_name": "LayoutView",
       "align_content": null,
       "align_items": null,
       "align_self": null,
       "border": null,
       "bottom": null,
       "display": null,
       "flex": null,
       "flex_flow": null,
       "grid_area": null,
       "grid_auto_columns": null,
       "grid_auto_flow": null,
       "grid_auto_rows": null,
       "grid_column": null,
       "grid_gap": null,
       "grid_row": null,
       "grid_template_areas": null,
       "grid_template_columns": null,
       "grid_template_rows": null,
       "height": null,
       "justify_content": null,
       "justify_items": null,
       "left": null,
       "margin": null,
       "max_height": null,
       "max_width": null,
       "min_height": null,
       "min_width": null,
       "object_fit": null,
       "object_position": null,
       "order": null,
       "overflow": null,
       "overflow_x": null,
       "overflow_y": null,
       "padding": null,
       "right": null,
       "top": null,
       "visibility": null,
       "width": null
      }
     },
     "b578dc7c4c3c42d4a9a204ed661817ba": {
      "model_module": "@jupyter-widgets/controls",
      "model_module_version": "1.5.0",
      "model_name": "HTMLModel",
      "state": {
       "_dom_classes": [],
       "_model_module": "@jupyter-widgets/controls",
       "_model_module_version": "1.5.0",
       "_model_name": "HTMLModel",
       "_view_count": null,
       "_view_module": "@jupyter-widgets/controls",
       "_view_module_version": "1.5.0",
       "_view_name": "HTMLView",
       "description": "",
       "description_tooltip": null,
       "layout": "IPY_MODEL_89d1ba34f2ef44d4826240cd762a2188",
       "placeholder": "​",
       "style": "IPY_MODEL_560fbcdfe2f748829d9ab23fd1764077",
       "value": "Downloading: 100%"
      }
     },
     "b9ac5a644a174bb7ac3474957a578bf0": {
      "model_module": "@jupyter-widgets/controls",
      "model_module_version": "1.5.0",
      "model_name": "ProgressStyleModel",
      "state": {
       "_model_module": "@jupyter-widgets/controls",
       "_model_module_version": "1.5.0",
       "_model_name": "ProgressStyleModel",
       "_view_count": null,
       "_view_module": "@jupyter-widgets/base",
       "_view_module_version": "1.2.0",
       "_view_name": "StyleView",
       "bar_color": null,
       "description_width": ""
      }
     },
     "bbdc1bdb9024463dbd8d7c8100725902": {
      "model_module": "@jupyter-widgets/controls",
      "model_module_version": "1.5.0",
      "model_name": "DescriptionStyleModel",
      "state": {
       "_model_module": "@jupyter-widgets/controls",
       "_model_module_version": "1.5.0",
       "_model_name": "DescriptionStyleModel",
       "_view_count": null,
       "_view_module": "@jupyter-widgets/base",
       "_view_module_version": "1.2.0",
       "_view_name": "StyleView",
       "description_width": ""
      }
     },
     "c203d4b0b5f24599a4fbf57744e3f76a": {
      "model_module": "@jupyter-widgets/controls",
      "model_module_version": "1.5.0",
      "model_name": "ProgressStyleModel",
      "state": {
       "_model_module": "@jupyter-widgets/controls",
       "_model_module_version": "1.5.0",
       "_model_name": "ProgressStyleModel",
       "_view_count": null,
       "_view_module": "@jupyter-widgets/base",
       "_view_module_version": "1.2.0",
       "_view_name": "StyleView",
       "bar_color": null,
       "description_width": ""
      }
     },
     "c2b79ab980fe4dfd8ee601bea7f27c77": {
      "model_module": "@jupyter-widgets/controls",
      "model_module_version": "1.5.0",
      "model_name": "HBoxModel",
      "state": {
       "_dom_classes": [],
       "_model_module": "@jupyter-widgets/controls",
       "_model_module_version": "1.5.0",
       "_model_name": "HBoxModel",
       "_view_count": null,
       "_view_module": "@jupyter-widgets/controls",
       "_view_module_version": "1.5.0",
       "_view_name": "HBoxView",
       "box_style": "",
       "children": [
        "IPY_MODEL_b578dc7c4c3c42d4a9a204ed661817ba",
        "IPY_MODEL_e1012c91f7934d7fab28e594d4e0b53b",
        "IPY_MODEL_11669cf5439748948e2489fd5d270c02"
       ],
       "layout": "IPY_MODEL_ed3b28e2e4e647acb12e781853052ada"
      }
     },
     "c71f9a317bc34d0fb50314e44a7049d5": {
      "model_module": "@jupyter-widgets/base",
      "model_module_version": "1.2.0",
      "model_name": "LayoutModel",
      "state": {
       "_model_module": "@jupyter-widgets/base",
       "_model_module_version": "1.2.0",
       "_model_name": "LayoutModel",
       "_view_count": null,
       "_view_module": "@jupyter-widgets/base",
       "_view_module_version": "1.2.0",
       "_view_name": "LayoutView",
       "align_content": null,
       "align_items": null,
       "align_self": null,
       "border": null,
       "bottom": null,
       "display": null,
       "flex": null,
       "flex_flow": null,
       "grid_area": null,
       "grid_auto_columns": null,
       "grid_auto_flow": null,
       "grid_auto_rows": null,
       "grid_column": null,
       "grid_gap": null,
       "grid_row": null,
       "grid_template_areas": null,
       "grid_template_columns": null,
       "grid_template_rows": null,
       "height": null,
       "justify_content": null,
       "justify_items": null,
       "left": null,
       "margin": null,
       "max_height": null,
       "max_width": null,
       "min_height": null,
       "min_width": null,
       "object_fit": null,
       "object_position": null,
       "order": null,
       "overflow": null,
       "overflow_x": null,
       "overflow_y": null,
       "padding": null,
       "right": null,
       "top": null,
       "visibility": null,
       "width": null
      }
     },
     "c736c45bdf7f4b5b82c0f88be195886d": {
      "model_module": "@jupyter-widgets/controls",
      "model_module_version": "1.5.0",
      "model_name": "FloatProgressModel",
      "state": {
       "_dom_classes": [],
       "_model_module": "@jupyter-widgets/controls",
       "_model_module_version": "1.5.0",
       "_model_name": "FloatProgressModel",
       "_view_count": null,
       "_view_module": "@jupyter-widgets/controls",
       "_view_module_version": "1.5.0",
       "_view_name": "ProgressView",
       "bar_style": "success",
       "description": "",
       "description_tooltip": null,
       "layout": "IPY_MODEL_4def6255163e4c3db4c664b2c52a89e2",
       "max": 871891.0,
       "min": 0.0,
       "orientation": "horizontal",
       "style": "IPY_MODEL_c203d4b0b5f24599a4fbf57744e3f76a",
       "value": 871891.0
      }
     },
     "ce59c387132d4c90985d839f544436e9": {
      "model_module": "@jupyter-widgets/controls",
      "model_module_version": "1.5.0",
      "model_name": "ProgressStyleModel",
      "state": {
       "_model_module": "@jupyter-widgets/controls",
       "_model_module_version": "1.5.0",
       "_model_name": "ProgressStyleModel",
       "_view_count": null,
       "_view_module": "@jupyter-widgets/base",
       "_view_module_version": "1.2.0",
       "_view_name": "StyleView",
       "bar_color": null,
       "description_width": ""
      }
     },
     "cf64614a190741e0a510fa8cb19d5341": {
      "model_module": "@jupyter-widgets/base",
      "model_module_version": "1.2.0",
      "model_name": "LayoutModel",
      "state": {
       "_model_module": "@jupyter-widgets/base",
       "_model_module_version": "1.2.0",
       "_model_name": "LayoutModel",
       "_view_count": null,
       "_view_module": "@jupyter-widgets/base",
       "_view_module_version": "1.2.0",
       "_view_name": "LayoutView",
       "align_content": null,
       "align_items": null,
       "align_self": null,
       "border": null,
       "bottom": null,
       "display": null,
       "flex": null,
       "flex_flow": null,
       "grid_area": null,
       "grid_auto_columns": null,
       "grid_auto_flow": null,
       "grid_auto_rows": null,
       "grid_column": null,
       "grid_gap": null,
       "grid_row": null,
       "grid_template_areas": null,
       "grid_template_columns": null,
       "grid_template_rows": null,
       "height": null,
       "justify_content": null,
       "justify_items": null,
       "left": null,
       "margin": null,
       "max_height": null,
       "max_width": null,
       "min_height": null,
       "min_width": null,
       "object_fit": null,
       "object_position": null,
       "order": null,
       "overflow": null,
       "overflow_x": null,
       "overflow_y": null,
       "padding": null,
       "right": null,
       "top": null,
       "visibility": null,
       "width": null
      }
     },
     "d63e5b8ff48846ca8f192ddf03cd1d84": {
      "model_module": "@jupyter-widgets/base",
      "model_module_version": "1.2.0",
      "model_name": "LayoutModel",
      "state": {
       "_model_module": "@jupyter-widgets/base",
       "_model_module_version": "1.2.0",
       "_model_name": "LayoutModel",
       "_view_count": null,
       "_view_module": "@jupyter-widgets/base",
       "_view_module_version": "1.2.0",
       "_view_name": "LayoutView",
       "align_content": null,
       "align_items": null,
       "align_self": null,
       "border": null,
       "bottom": null,
       "display": null,
       "flex": null,
       "flex_flow": null,
       "grid_area": null,
       "grid_auto_columns": null,
       "grid_auto_flow": null,
       "grid_auto_rows": null,
       "grid_column": null,
       "grid_gap": null,
       "grid_row": null,
       "grid_template_areas": null,
       "grid_template_columns": null,
       "grid_template_rows": null,
       "height": null,
       "justify_content": null,
       "justify_items": null,
       "left": null,
       "margin": null,
       "max_height": null,
       "max_width": null,
       "min_height": null,
       "min_width": null,
       "object_fit": null,
       "object_position": null,
       "order": null,
       "overflow": null,
       "overflow_x": null,
       "overflow_y": null,
       "padding": null,
       "right": null,
       "top": null,
       "visibility": null,
       "width": null
      }
     },
     "da7a151f02364e55b2e2f7faf51ea949": {
      "model_module": "@jupyter-widgets/controls",
      "model_module_version": "1.5.0",
      "model_name": "HTMLModel",
      "state": {
       "_dom_classes": [],
       "_model_module": "@jupyter-widgets/controls",
       "_model_module_version": "1.5.0",
       "_model_name": "HTMLModel",
       "_view_count": null,
       "_view_module": "@jupyter-widgets/controls",
       "_view_module_version": "1.5.0",
       "_view_name": "HTMLView",
       "description": "",
       "description_tooltip": null,
       "layout": "IPY_MODEL_fe30e170792b45cea3c73431e909a0b1",
       "placeholder": "​",
       "style": "IPY_MODEL_2ababf7fe4b4466696c5fc7904a6f7ed",
       "value": " 872k/872k [00:00&lt;00:00, 1.69MB/s]"
      }
     },
     "df83ef8eb574435c93b1847f769b6bb0": {
      "model_module": "@jupyter-widgets/controls",
      "model_module_version": "1.5.0",
      "model_name": "HTMLModel",
      "state": {
       "_dom_classes": [],
       "_model_module": "@jupyter-widgets/controls",
       "_model_module_version": "1.5.0",
       "_model_name": "HTMLModel",
       "_view_count": null,
       "_view_module": "@jupyter-widgets/controls",
       "_view_module_version": "1.5.0",
       "_view_name": "HTMLView",
       "description": "",
       "description_tooltip": null,
       "layout": "IPY_MODEL_4cb76576818f4e0287dde1ec76e6bc00",
       "placeholder": "​",
       "style": "IPY_MODEL_f817f6b0e3d148938939a1fbfb0b4be3",
       "value": "Downloading: 100%"
      }
     },
     "e1012c91f7934d7fab28e594d4e0b53b": {
      "model_module": "@jupyter-widgets/controls",
      "model_module_version": "1.5.0",
      "model_name": "FloatProgressModel",
      "state": {
       "_dom_classes": [],
       "_model_module": "@jupyter-widgets/controls",
       "_model_module_version": "1.5.0",
       "_model_name": "FloatProgressModel",
       "_view_count": null,
       "_view_module": "@jupyter-widgets/controls",
       "_view_module_version": "1.5.0",
       "_view_name": "ProgressView",
       "bar_style": "success",
       "description": "",
       "description_tooltip": null,
       "layout": "IPY_MODEL_731abd84bc7946afb7575fbce68f7cde",
       "max": 999358484.0,
       "min": 0.0,
       "orientation": "horizontal",
       "style": "IPY_MODEL_b9ac5a644a174bb7ac3474957a578bf0",
       "value": 999358484.0
      }
     },
     "ed3b28e2e4e647acb12e781853052ada": {
      "model_module": "@jupyter-widgets/base",
      "model_module_version": "1.2.0",
      "model_name": "LayoutModel",
      "state": {
       "_model_module": "@jupyter-widgets/base",
       "_model_module_version": "1.2.0",
       "_model_name": "LayoutModel",
       "_view_count": null,
       "_view_module": "@jupyter-widgets/base",
       "_view_module_version": "1.2.0",
       "_view_name": "LayoutView",
       "align_content": null,
       "align_items": null,
       "align_self": null,
       "border": null,
       "bottom": null,
       "display": null,
       "flex": null,
       "flex_flow": null,
       "grid_area": null,
       "grid_auto_columns": null,
       "grid_auto_flow": null,
       "grid_auto_rows": null,
       "grid_column": null,
       "grid_gap": null,
       "grid_row": null,
       "grid_template_areas": null,
       "grid_template_columns": null,
       "grid_template_rows": null,
       "height": null,
       "justify_content": null,
       "justify_items": null,
       "left": null,
       "margin": null,
       "max_height": null,
       "max_width": null,
       "min_height": null,
       "min_width": null,
       "object_fit": null,
       "object_position": null,
       "order": null,
       "overflow": null,
       "overflow_x": null,
       "overflow_y": null,
       "padding": null,
       "right": null,
       "top": null,
       "visibility": null,
       "width": null
      }
     },
     "ef2aca586f664a9881901138a8e538bb": {
      "model_module": "@jupyter-widgets/base",
      "model_module_version": "1.2.0",
      "model_name": "LayoutModel",
      "state": {
       "_model_module": "@jupyter-widgets/base",
       "_model_module_version": "1.2.0",
       "_model_name": "LayoutModel",
       "_view_count": null,
       "_view_module": "@jupyter-widgets/base",
       "_view_module_version": "1.2.0",
       "_view_name": "LayoutView",
       "align_content": null,
       "align_items": null,
       "align_self": null,
       "border": null,
       "bottom": null,
       "display": null,
       "flex": null,
       "flex_flow": null,
       "grid_area": null,
       "grid_auto_columns": null,
       "grid_auto_flow": null,
       "grid_auto_rows": null,
       "grid_column": null,
       "grid_gap": null,
       "grid_row": null,
       "grid_template_areas": null,
       "grid_template_columns": null,
       "grid_template_rows": null,
       "height": null,
       "justify_content": null,
       "justify_items": null,
       "left": null,
       "margin": null,
       "max_height": null,
       "max_width": null,
       "min_height": null,
       "min_width": null,
       "object_fit": null,
       "object_position": null,
       "order": null,
       "overflow": null,
       "overflow_x": null,
       "overflow_y": null,
       "padding": null,
       "right": null,
       "top": null,
       "visibility": null,
       "width": null
      }
     },
     "f12a8f9686504ae2bea9b9990941520f": {
      "model_module": "@jupyter-widgets/controls",
      "model_module_version": "1.5.0",
      "model_name": "DescriptionStyleModel",
      "state": {
       "_model_module": "@jupyter-widgets/controls",
       "_model_module_version": "1.5.0",
       "_model_name": "DescriptionStyleModel",
       "_view_count": null,
       "_view_module": "@jupyter-widgets/base",
       "_view_module_version": "1.2.0",
       "_view_name": "StyleView",
       "description_width": ""
      }
     },
     "f24a3d3ec5ec4f3bae2601e58db1c2a4": {
      "model_module": "@jupyter-widgets/controls",
      "model_module_version": "1.5.0",
      "model_name": "HTMLModel",
      "state": {
       "_dom_classes": [],
       "_model_module": "@jupyter-widgets/controls",
       "_model_module_version": "1.5.0",
       "_model_name": "HTMLModel",
       "_view_count": null,
       "_view_module": "@jupyter-widgets/controls",
       "_view_module_version": "1.5.0",
       "_view_name": "HTMLView",
       "description": "",
       "description_tooltip": null,
       "layout": "IPY_MODEL_fee5644f104e44a5ad8b69910e97d8cd",
       "placeholder": "​",
       "style": "IPY_MODEL_3330490b19874aecb94bdb25d5a641df",
       "value": " 28.0/28.0 [00:00&lt;00:00, 975B/s]"
      }
     },
     "f34038be48514822aa9ad44d0882e9fa": {
      "model_module": "@jupyter-widgets/controls",
      "model_module_version": "1.5.0",
      "model_name": "HBoxModel",
      "state": {
       "_dom_classes": [],
       "_model_module": "@jupyter-widgets/controls",
       "_model_module_version": "1.5.0",
       "_model_name": "HBoxModel",
       "_view_count": null,
       "_view_module": "@jupyter-widgets/controls",
       "_view_module_version": "1.5.0",
       "_view_name": "HBoxView",
       "box_style": "",
       "children": [
        "IPY_MODEL_4be9c455c10144ba9d22a6aab8b3a082",
        "IPY_MODEL_c736c45bdf7f4b5b82c0f88be195886d",
        "IPY_MODEL_da7a151f02364e55b2e2f7faf51ea949"
       ],
       "layout": "IPY_MODEL_c71f9a317bc34d0fb50314e44a7049d5"
      }
     },
     "f72bfa4a66bf4efb9d7c603fc9259f5d": {
      "model_module": "@jupyter-widgets/controls",
      "model_module_version": "1.5.0",
      "model_name": "FloatProgressModel",
      "state": {
       "_dom_classes": [],
       "_model_module": "@jupyter-widgets/controls",
       "_model_module_version": "1.5.0",
       "_model_name": "FloatProgressModel",
       "_view_count": null,
       "_view_module": "@jupyter-widgets/controls",
       "_view_module_version": "1.5.0",
       "_view_name": "ProgressView",
       "bar_style": "success",
       "description": "",
       "description_tooltip": null,
       "layout": "IPY_MODEL_fbad1105191842338a6576888952eb94",
       "max": 28.0,
       "min": 0.0,
       "orientation": "horizontal",
       "style": "IPY_MODEL_5f120ec1e9204ff5b4efb8aecdaea56b",
       "value": 28.0
      }
     },
     "f817f6b0e3d148938939a1fbfb0b4be3": {
      "model_module": "@jupyter-widgets/controls",
      "model_module_version": "1.5.0",
      "model_name": "DescriptionStyleModel",
      "state": {
       "_model_module": "@jupyter-widgets/controls",
       "_model_module_version": "1.5.0",
       "_model_name": "DescriptionStyleModel",
       "_view_count": null,
       "_view_module": "@jupyter-widgets/base",
       "_view_module_version": "1.2.0",
       "_view_name": "StyleView",
       "description_width": ""
      }
     },
     "f98dfa43ddcc4bda805908705c142b56": {
      "model_module": "@jupyter-widgets/controls",
      "model_module_version": "1.5.0",
      "model_name": "HTMLModel",
      "state": {
       "_dom_classes": [],
       "_model_module": "@jupyter-widgets/controls",
       "_model_module_version": "1.5.0",
       "_model_name": "HTMLModel",
       "_view_count": null,
       "_view_module": "@jupyter-widgets/controls",
       "_view_module_version": "1.5.0",
       "_view_name": "HTMLView",
       "description": "",
       "description_tooltip": null,
       "layout": "IPY_MODEL_3dfcc21cc7994dcfa62485fe3d6dbfa7",
       "placeholder": "​",
       "style": "IPY_MODEL_f12a8f9686504ae2bea9b9990941520f",
       "value": "Downloading: 100%"
      }
     },
     "fbad1105191842338a6576888952eb94": {
      "model_module": "@jupyter-widgets/base",
      "model_module_version": "1.2.0",
      "model_name": "LayoutModel",
      "state": {
       "_model_module": "@jupyter-widgets/base",
       "_model_module_version": "1.2.0",
       "_model_name": "LayoutModel",
       "_view_count": null,
       "_view_module": "@jupyter-widgets/base",
       "_view_module_version": "1.2.0",
       "_view_name": "LayoutView",
       "align_content": null,
       "align_items": null,
       "align_self": null,
       "border": null,
       "bottom": null,
       "display": null,
       "flex": null,
       "flex_flow": null,
       "grid_area": null,
       "grid_auto_columns": null,
       "grid_auto_flow": null,
       "grid_auto_rows": null,
       "grid_column": null,
       "grid_gap": null,
       "grid_row": null,
       "grid_template_areas": null,
       "grid_template_columns": null,
       "grid_template_rows": null,
       "height": null,
       "justify_content": null,
       "justify_items": null,
       "left": null,
       "margin": null,
       "max_height": null,
       "max_width": null,
       "min_height": null,
       "min_width": null,
       "object_fit": null,
       "object_position": null,
       "order": null,
       "overflow": null,
       "overflow_x": null,
       "overflow_y": null,
       "padding": null,
       "right": null,
       "top": null,
       "visibility": null,
       "width": null
      }
     },
     "fe30e170792b45cea3c73431e909a0b1": {
      "model_module": "@jupyter-widgets/base",
      "model_module_version": "1.2.0",
      "model_name": "LayoutModel",
      "state": {
       "_model_module": "@jupyter-widgets/base",
       "_model_module_version": "1.2.0",
       "_model_name": "LayoutModel",
       "_view_count": null,
       "_view_module": "@jupyter-widgets/base",
       "_view_module_version": "1.2.0",
       "_view_name": "LayoutView",
       "align_content": null,
       "align_items": null,
       "align_self": null,
       "border": null,
       "bottom": null,
       "display": null,
       "flex": null,
       "flex_flow": null,
       "grid_area": null,
       "grid_auto_columns": null,
       "grid_auto_flow": null,
       "grid_auto_rows": null,
       "grid_column": null,
       "grid_gap": null,
       "grid_row": null,
       "grid_template_areas": null,
       "grid_template_columns": null,
       "grid_template_rows": null,
       "height": null,
       "justify_content": null,
       "justify_items": null,
       "left": null,
       "margin": null,
       "max_height": null,
       "max_width": null,
       "min_height": null,
       "min_width": null,
       "object_fit": null,
       "object_position": null,
       "order": null,
       "overflow": null,
       "overflow_x": null,
       "overflow_y": null,
       "padding": null,
       "right": null,
       "top": null,
       "visibility": null,
       "width": null
      }
     },
     "fee5644f104e44a5ad8b69910e97d8cd": {
      "model_module": "@jupyter-widgets/base",
      "model_module_version": "1.2.0",
      "model_name": "LayoutModel",
      "state": {
       "_model_module": "@jupyter-widgets/base",
       "_model_module_version": "1.2.0",
       "_model_name": "LayoutModel",
       "_view_count": null,
       "_view_module": "@jupyter-widgets/base",
       "_view_module_version": "1.2.0",
       "_view_name": "LayoutView",
       "align_content": null,
       "align_items": null,
       "align_self": null,
       "border": null,
       "bottom": null,
       "display": null,
       "flex": null,
       "flex_flow": null,
       "grid_area": null,
       "grid_auto_columns": null,
       "grid_auto_flow": null,
       "grid_auto_rows": null,
       "grid_column": null,
       "grid_gap": null,
       "grid_row": null,
       "grid_template_areas": null,
       "grid_template_columns": null,
       "grid_template_rows": null,
       "height": null,
       "justify_content": null,
       "justify_items": null,
       "left": null,
       "margin": null,
       "max_height": null,
       "max_width": null,
       "min_height": null,
       "min_width": null,
       "object_fit": null,
       "object_position": null,
       "order": null,
       "overflow": null,
       "overflow_x": null,
       "overflow_y": null,
       "padding": null,
       "right": null,
       "top": null,
       "visibility": null,
       "width": null
      }
     }
    },
    "version_major": 2,
    "version_minor": 0
   }
  }
 },
 "nbformat": 4,
 "nbformat_minor": 5
}
